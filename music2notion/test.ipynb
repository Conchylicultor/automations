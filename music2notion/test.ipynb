{
 "cells": [
  {
   "cell_type": "code",
   "execution_count": 1,
   "metadata": {},
   "outputs": [
    {
     "data": {
      "text/plain": [
       "BookmarkFolder(\n",
       "    name='Barre de favoris',\n",
       "    path='Barre de favoris',\n",
       "    date_added=2019-09-29 02:04:00.445365+02:00,\n",
       "    url='chrome://bookmarks/?id=1',\n",
       "    num_urls=4174,\n",
       "    children=[\n",
       "        Regulier/ (38 urls)\n",
       "        Glande/ (503 urls)\n",
       "        Songs/ (2750 urls)\n",
       "        Commode/ (37 urls)\n",
       "        DeadPhone/ (121 urls)\n",
       "        '' (https://drive.google.com/drive/my-drive)\n",
       "        'O' (https://drive.google.com/drive/folders/0Bw-phsNSkq23cUNJWWh0dEVKUnM)\n",
       "        '' (https://mail.google.com/mail/u/0/#inbox)\n",
       "        '' (https://www.youtube.com/)\n",
       "        '' (https://my.whisk.com/recipes)\n",
       "        '' (https://www.imdb.com/user/ur42567646/watchlist?sort=list_order%2Cdesc&view=grid)\n",
       "        'R' (http://random.moviehint.net/index.php?author_id=ls051353580&type=movie)\n",
       "        '' (...)\n",
       "        '' (chrome://bookmarks/?id=23)\n",
       "        '' (https://www.notion.so/epot/)\n",
       "        '' (https://coda.io/d/Root_dJkhsbYos1S/Homepage_suLX4#_luDAn)\n",
       "        P/ (4 urls)\n",
       "        '' (https://drive.google.com/keep/#home)\n",
       "        '' (https://docs.google.com/document/u/0/)\n",
       "        '' (https://docs.google.com/spreadsheets/u/0/)\n",
       "        '' (https://translate.google.fr/?hl=fr&tab=wT)\n",
       "        '' (https://www.reddit.com/)\n",
       "        '' (https://github.com/Conchylicultor?tab=repositories)\n",
       "        '' (https://discord.com/channels/689117690727759877/689117690731954242)\n",
       "        '' (https://web.mapstr.com/)\n",
       "        Pro/ (4 urls)\n",
       "        G/ (62 urls)\n",
       "        DL/ (32 urls)\n",
       "        Chrome/ (10 urls)\n",
       "        Appart/ (0 urls)\n",
       "        For Later/ (393 urls)\n",
       "        Piano/ (110 urls)\n",
       "        Autre/ (78 urls)\n",
       "        M/ (8 urls)\n",
       "        'Final Cut - Hölgyeim es uraim - YouTube' (https://www.youtube.com/watch?v=pSYZ9fMEaDU&feature=youtu.be&t=1h22m48s)\n",
       "        'Herbert Leonard Pour le plaisir - YouTube' (https://www.youtube.com/watch?v=x36hqnfWsaQ&list=WL&index=26&t=0s)\n",
       "        'GUIMBARDE TRANCE Ataya - YouTube' (https://www.youtube.com/watch?v=8u_SVNoWPfs)\n",
       "        \"Webinar Le marché de l'art en 2020 : vers une nouvelle ère ? - YouTube\" (https://www.youtube.com/watch?v=agT4vNzXBZ4)\n",
       "        'Conchylicultor/my-chrome-bookmarks: Python extension to read local Chrome bookmarks' (https://github.com/Conchylicultor/my-chrome-bookmarks)\n",
       "    ],\n",
       ")"
      ]
     },
     "execution_count": 1,
     "metadata": {},
     "output_type": "execute_result"
    }
   ],
   "source": [
    "import my_chrome_bookmarks\n",
    "\n",
    "bookmarks = my_chrome_bookmarks.bookmark_bar()\n",
    "bookmarks"
   ]
  },
  {
   "cell_type": "code",
   "execution_count": 2,
   "metadata": {},
   "outputs": [
    {
     "data": {
      "text/plain": [
       "BookmarkUrl(\n",
       "    name='Conchylicultor/my-chrome-bookmarks: Python extension to read local Chrome bookmarks',\n",
       "    path='Barre de favoris/Conchylicultor/my-chrome-bookmarks: Python extension to read local Chrome bookmarks',\n",
       "    date_added=2022-01-08 16:32:56.831512+01:00,\n",
       "    url='https://github.com/Conchylicultor/my-chrome-bookmarks',\n",
       ")"
      ]
     },
     "execution_count": 2,
     "metadata": {},
     "output_type": "execute_result"
    }
   ],
   "source": [
    "bookmarks.children[-1]"
   ]
  },
  {
   "cell_type": "code",
   "execution_count": 4,
   "metadata": {},
   "outputs": [
    {
     "data": {
      "text/plain": [
       "BookmarkFolder(\n",
       "    name=Songs,\n",
       "    path=Barre de favoris/Songs,\n",
       "    date_added=2011-12-21 09:49:18,\n",
       "    url=chrome://bookmarks/?id=10376,\n",
       "    num_urls=2750,\n",
       "    children=[\n",
       "        After 30/05/2020/ (28 urls)\n",
       "        Electro/ (494 urls)\n",
       "        Commerciale/ (160 urls)\n",
       "        Rap/ (105 urls)\n",
       "        Pop/Rock/autre/ (276 urls)\n",
       "        Retro/ (135 urls)\n",
       "        Francais/ (222 urls)\n",
       "        Films/ (307 urls)\n",
       "        Trailer/ (140 urls)\n",
       "        JV/ (190 urls)\n",
       "        Classique, romantique,.../ (173 urls)\n",
       "        Post-classique/ (232 urls)\n",
       "        Jazz Ragtime/ (100 urls)\n",
       "        Monde/ (16 urls)\n",
       "        Humour/ (88 urls)\n",
       "        Autre/ (74 urls)\n",
       "        TODO/ (8 urls)\n",
       "        'It Is What It Is - Saison 6 by laurent garnier | Free Listening on SoundCloud' (https://soundcloud.com/laurent-garnier/sets/it-is-what-it-is-saison-6)\n",
       "        'Your stream on SoundCloud - Hear the world’s sounds' (https://soundcloud.com/stream)\n",
       "    ],\n",
       ")"
      ]
     },
     "execution_count": 4,
     "metadata": {},
     "output_type": "execute_result"
    }
   ],
   "source": [
    "songs = bookmarks['Songs']\n",
    "songs"
   ]
  },
  {
   "cell_type": "code",
   "execution_count": 5,
   "metadata": {},
   "outputs": [
    {
     "data": {
      "text/plain": [
       "BookmarkUrl(\n",
       "    name=Your stream on SoundCloud - Hear the world’s sounds,\n",
       "    path=Barre de favoris/Songs/Your stream on SoundCloud - Hear the world’s sounds,\n",
       "    date_added=2011-03-22 17:09:17,\n",
       "    url=https://soundcloud.com/stream,\n",
       ")"
      ]
     },
     "execution_count": 5,
     "metadata": {},
     "output_type": "execute_result"
    }
   ],
   "source": [
    "songs['Your stream on SoundCloud - Hear the world’s sounds']"
   ]
  },
  {
   "cell_type": "code",
   "execution_count": null,
   "metadata": {},
   "outputs": [],
   "source": [
    "import json\n",
    "\n",
    "p = bookmarks.get_bookmarks_path()\n",
    "d = json.loads(p.read_text())"
   ]
  },
  {
   "cell_type": "code",
   "execution_count": null,
   "metadata": {},
   "outputs": [],
   "source": [
    "d.keys()"
   ]
  },
  {
   "cell_type": "code",
   "execution_count": null,
   "metadata": {},
   "outputs": [],
   "source": [
    "d['roots'].keys()"
   ]
  },
  {
   "cell_type": "code",
   "execution_count": null,
   "metadata": {},
   "outputs": [],
   "source": [
    "RenderJSON(d)"
   ]
  },
  {
   "cell_type": "code",
   "execution_count": null,
   "metadata": {},
   "outputs": [],
   "source": [
    "\n",
    "## Add this to the first block in your note book\n",
    "import uuid\n",
    "from IPython.core.display import display, HTML\n",
    "\n",
    "import json\n",
    "\n",
    "class RenderJSON(object):\n",
    "    def __init__(self, json_data):\n",
    "        if isinstance(json_data, dict):\n",
    "            self.json_str = json.dumps(json_data)\n",
    "        else:\n",
    "            self.json_str = json_data\n",
    "        self.uuid = str(uuid.uuid4())\n",
    "        # This line is missed out in most of the versions of this script across the web, it is essential for this to work interleaved with print statements\n",
    "        self._ipython_display_()\n",
    "        \n",
    "    def _ipython_display_(self):\n",
    "        display(HTML('<div id=\"{}\" style=\"height: auto; width:100%;\"></div>'.format(self.uuid)))\n",
    "        display(HTML(\"\"\"<script>\n",
    "        require([\"https://rawgit.com/caldwell/renderjson/master/renderjson.js\"], function() {\n",
    "          renderjson.set_show_to_level(1)\n",
    "          document.getElementById('%s').appendChild(renderjson(%s))\n",
    "        });</script>\n",
    "        \"\"\" % (self.uuid, self.json_str)))\n"
   ]
  }
 ],
 "metadata": {
  "interpreter": {
   "hash": "e7370f93d1d0cde622a1f8e1c04877d8463912d04d973331ad4851f04de6915a"
  },
  "kernelspec": {
   "display_name": "Python 3.8.10 64-bit",
   "name": "python3"
  },
  "language_info": {
   "codemirror_mode": {
    "name": "ipython",
    "version": 3
   },
   "file_extension": ".py",
   "mimetype": "text/x-python",
   "name": "python",
   "nbconvert_exporter": "python",
   "pygments_lexer": "ipython3",
   "version": "3.8.10"
  },
  "orig_nbformat": 4
 },
 "nbformat": 4,
 "nbformat_minor": 2
}
