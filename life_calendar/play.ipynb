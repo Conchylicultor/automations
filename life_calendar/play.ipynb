{
 "cells": [
  {
   "cell_type": "markdown",
   "metadata": {},
   "source": []
  },
  {
   "cell_type": "markdown",
   "metadata": {},
   "source": [
    "## Imports"
   ]
  },
  {
   "cell_type": "code",
   "execution_count": null,
   "metadata": {},
   "outputs": [],
   "source": [
    "from __future__ import annotations\n",
    "\n",
    "import collections\n",
    "import datetime\n",
    "import dataclasses\n",
    "import importlib\n",
    "import pathlib\n",
    "import os\n",
    "import sys\n",
    "import types\n",
    "from typing import Any\n",
    "\n",
    "from etils import epy\n",
    "\n",
    "import pandas as pd\n",
    "import plotly\n",
    "import plotly.express as px\n",
    "import plotly.graph_objects as go\n",
    "import plotly.io as pio\n",
    "\n",
    "Json = Any"
   ]
  },
  {
   "cell_type": "code",
   "execution_count": null,
   "metadata": {},
   "outputs": [],
   "source": [
    "# Add notion_api to the path\n",
    "module_path = os.fspath(pathlib.Path().absolute().parent)\n",
    "if module_path not in sys.path:\n",
    "    sys.path.append(module_path)"
   ]
  },
  {
   "cell_type": "code",
   "execution_count": null,
   "metadata": {},
   "outputs": [],
   "source": [
    "# Load the API token\n",
    "p = pathlib.Path('~/__A__/life_calendar_api_token.txt')\n",
    "p = p.expanduser()\n",
    "os.environ['NOTION_TOKEN'] = p.read_text().strip()"
   ]
  },
  {
   "cell_type": "code",
   "execution_count": null,
   "metadata": {},
   "outputs": [],
   "source": [
    "def clear_modules(module_names: list[str] | str) -> None:\n",
    "    \"\"\"Clear modules from `sys.module`.\"\"\"\n",
    "    if isinstance(module_names, str):\n",
    "        module_names = [module_names]\n",
    "\n",
    "    for module in list(sys.modules):\n",
    "        if any(module.startswith(prefix) for prefix in module_names):\n",
    "            del sys.modules[module]"
   ]
  },
  {
   "cell_type": "code",
   "execution_count": null,
   "metadata": {},
   "outputs": [],
   "source": [
    "pio.templates.default = 'seaborn'"
   ]
  },
  {
   "cell_type": "markdown",
   "metadata": {},
   "source": [
    "## Code"
   ]
  },
  {
   "cell_type": "code",
   "execution_count": null,
   "metadata": {},
   "outputs": [],
   "source": [
    "clear_modules('life_calendar')\n",
    "\n",
    "import life_calendar\n",
    "\n",
    "life_db = life_calendar.LifeCalendarDb()\n",
    "life_db.events"
   ]
  },
  {
   "cell_type": "code",
   "execution_count": null,
   "metadata": {},
   "outputs": [],
   "source": [
    "life_weeks = []\n",
    "for event in life_db.events:\n",
    "    life_weeks.extend(event.to_weeks())\n",
    "life_weeks"
   ]
  },
  {
   "cell_type": "code",
   "execution_count": null,
   "metadata": {},
   "outputs": [],
   "source": [
    "TODO:\n",
    "* Collisions\n",
    "* Types\n",
    "* Countries\n",
    "* Fill-up empty square"
   ]
  },
  {
   "cell_type": "code",
   "execution_count": null,
   "metadata": {},
   "outputs": [],
   "source": [
    "df = pd.DataFrame(life_weeks)\n",
    "\n",
    "fig = px.scatter(\n",
    "    df, \n",
    "    x='week', \n",
    "    y='year',\n",
    "    hover_data=['desc', 'date_range'],\n",
    "    color='desc',\n",
    "    height=1000,\n",
    "    # template=\"seaborn\",\n",
    "    # template=\"plotly_dark\",\n",
    ")\n",
    "fig.update_traces(\n",
    "    marker=go.scattergl.Marker(\n",
    "        symbol='square',\n",
    "    ),\n",
    ")\n",
    "fig.update_layout(\n",
    "    margin=dict(l=0, r=0, t=0, b=0),\n",
    "    # showlegend=False,\n",
    "    # paper_bgcolor=\"LightSteelBlue\",\n",
    ")\n",
    "fig.update_yaxes(\n",
    "    autorange=\"reversed\",\n",
    "    scaleanchor=\"x\",\n",
    "    scaleratio=1,\n",
    "    showgrid=False,\n",
    "    zeroline=False,  # Line at 0\n",
    "    visible=False,  # Legend\n",
    ")\n",
    "fig.update_xaxes(\n",
    "    showgrid=False,\n",
    "    zeroline=False,  # Line at 0\n",
    "    visible=False,  # Legend\n",
    ")\n",
    "fig"
   ]
  },
  {
   "cell_type": "code",
   "execution_count": null,
   "metadata": {},
   "outputs": [],
   "source": [
    "class Database:\n",
    "\n",
    "    def __init__(self, database_id: str) -> None:\n",
    "        # TODO\n",
    "        self._client = client = notion_api.Client()\n",
    "\n",
    "        results = self._client.api.databases.query(\n",
    "            database_id=CALENDAR_ID,\n",
    "        )\n",
    "\n",
    "    def __iter__(self):\n",
    "        return results\n"
   ]
  },
  {
   "cell_type": "code",
   "execution_count": null,
   "metadata": {},
   "outputs": [],
   "source": []
  },
  {
   "cell_type": "code",
   "execution_count": null,
   "metadata": {},
   "outputs": [],
   "source": []
  },
  {
   "cell_type": "code",
   "execution_count": null,
   "metadata": {},
   "outputs": [],
   "source": [
    "help(go.scatter.Marker)"
   ]
  },
  {
   "cell_type": "code",
   "execution_count": null,
   "metadata": {},
   "outputs": [],
   "source": [
    "import os\n",
    "\n",
    "list(os.environ.keys())"
   ]
  },
  {
   "cell_type": "code",
   "execution_count": null,
   "metadata": {},
   "outputs": [],
   "source": []
  },
  {
   "cell_type": "code",
   "execution_count": null,
   "metadata": {},
   "outputs": [],
   "source": []
  }
 ],
 "metadata": {
  "kernelspec": {
   "display_name": "Python 3",
   "language": "python",
   "name": "python3"
  },
  "language_info": {
   "codemirror_mode": {
    "name": "ipython",
    "version": 3
   },
   "file_extension": ".py",
   "mimetype": "text/x-python",
   "name": "python",
   "nbconvert_exporter": "python",
   "pygments_lexer": "ipython3",
   "version": "3.11.1 (main, Dec 21 2022, 11:17:26) [Clang 14.0.0 (clang-1400.0.29.202)]"
  },
  "orig_nbformat": 4,
  "vscode": {
   "interpreter": {
    "hash": "136a4e114a1c289a6918e47484fd822e84bd6bf7473b2c9af631febfc9de4cf4"
   }
  }
 },
 "nbformat": 4,
 "nbformat_minor": 2
}
