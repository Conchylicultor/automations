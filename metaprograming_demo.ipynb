{
 "cells": [
  {
   "cell_type": "code",
   "execution_count": null,
   "metadata": {
    "tags": []
   },
   "outputs": [],
   "source": [
    "from __future__ import annotations\n",
    "import inspect\n",
    "from typing import *\n",
    "from etils.lazy_imports import *"
   ]
  },
  {
   "cell_type": "code",
   "execution_count": null,
   "metadata": {},
   "outputs": [],
   "source": [
    "class MyConfig(Config):\n",
    "    model_name: str\n",
    "    batch_size: int\n",
    "\n",
    "    @config_property\n",
    "    def learning_rate(self) -> float:\n",
    "        return self.batch_size * 3"
   ]
  },
  {
   "cell_type": "markdown",
   "metadata": {
    "jp-MarkdownHeadingCollapsed": true,
    "tags": []
   },
   "source": [
    "### Descriptors"
   ]
  },
  {
   "cell_type": "code",
   "execution_count": 54,
   "metadata": {},
   "outputs": [
    {
     "data": {
      "text/plain": [
       "<__main__.A at 0x120cc14e0>"
      ]
     },
     "execution_count": 54,
     "metadata": {},
     "output_type": "execute_result"
    }
   ],
   "source": [
    "class Descriptor:\n",
    "\n",
    "    def __get__(self, obj, obj_cls):\n",
    "        print(f'Descriptor.__get__({obj}, {obj_cls.__name__})')\n",
    "\n",
    "\n",
    "class A:\n",
    "    x = Descriptor()\n",
    "\n",
    "\n",
    "a = A()\n",
    "a"
   ]
  },
  {
   "cell_type": "code",
   "execution_count": 55,
   "metadata": {},
   "outputs": [
    {
     "name": "stdout",
     "output_type": "stream",
     "text": [
      "Descriptor.__get__(None, A)\n",
      "Descriptor.__get__(<__main__.A object at 0x120cc14e0>, A)\n"
     ]
    }
   ],
   "source": [
    "A.x\n",
    "a.x"
   ]
  },
  {
   "cell_type": "code",
   "execution_count": 56,
   "metadata": {},
   "outputs": [],
   "source": [
    "class A:\n",
    "    \n",
    "    @staticmethod\n",
    "    def create():\n",
    "        return A()\n",
    "\n",
    "    @property\n",
    "    def x(self):\n",
    "        return 1"
   ]
  },
  {
   "cell_type": "code",
   "execution_count": 57,
   "metadata": {},
   "outputs": [],
   "source": [
    "class A:\n",
    "    \n",
    "    create = staticmethod(lambda: A())\n",
    "\n",
    "    x = property(lambda self: 1)\n",
    "\n",
    "a = A()"
   ]
  },
  {
   "cell_type": "code",
   "execution_count": 58,
   "metadata": {},
   "outputs": [
    {
     "name": "stdout",
     "output_type": "stream",
     "text": [
      "<function A.<lambda> at 0x120d04550>\n",
      "<function A.<lambda> at 0x120d04550>\n"
     ]
    }
   ],
   "source": [
    "print(A.create)\n",
    "print(a.create)"
   ]
  },
  {
   "cell_type": "code",
   "execution_count": 60,
   "metadata": {},
   "outputs": [
    {
     "data": {
      "text/plain": [
       "<staticmethod(<function A.<lambda> at 0x120d04550>)>"
      ]
     },
     "execution_count": 60,
     "metadata": {},
     "output_type": "execute_result"
    }
   ],
   "source": [
    "descriptor = A.__dict__['create']\n",
    "descriptor"
   ]
  },
  {
   "cell_type": "code",
   "execution_count": 61,
   "metadata": {},
   "outputs": [
    {
     "name": "stdout",
     "output_type": "stream",
     "text": [
      "<function A.<lambda> at 0x120d04550>\n",
      "<function A.<lambda> at 0x120d04550>\n"
     ]
    }
   ],
   "source": [
    "print(descriptor.__get__(None, A))\n",
    "print(descriptor.__get__(a, A))"
   ]
  },
  {
   "cell_type": "code",
   "execution_count": 63,
   "metadata": {},
   "outputs": [
    {
     "name": "stdout",
     "output_type": "stream",
     "text": [
      "<property object at 0x120d0bc40>\n",
      "1\n"
     ]
    }
   ],
   "source": [
    "print(A.x)\n",
    "print(a.x)"
   ]
  },
  {
   "cell_type": "code",
   "execution_count": 62,
   "metadata": {},
   "outputs": [
    {
     "name": "stdout",
     "output_type": "stream",
     "text": [
      "<property object at 0x120d0bc40>\n",
      "1\n"
     ]
    }
   ],
   "source": [
    "descriptor = A.__dict__['x']\n",
    "\n",
    "print(descriptor.__get__(None, A))\n",
    "print(descriptor.__get__(a, A))"
   ]
  },
  {
   "cell_type": "code",
   "execution_count": 64,
   "metadata": {},
   "outputs": [
    {
     "name": "stdout",
     "output_type": "stream",
     "text": [
      "<function A.fn at 0x120d04940>\n",
      "<bound method A.fn of <__main__.A object at 0x120cc2cb0>>\n"
     ]
    }
   ],
   "source": [
    "class A:\n",
    "\n",
    "    def fn(self):\n",
    "        pass\n",
    "\n",
    "a = A()\n",
    "\n",
    "\n",
    "print(A.fn)\n",
    "print(a.fn)"
   ]
  },
  {
   "cell_type": "code",
   "execution_count": 65,
   "metadata": {},
   "outputs": [
    {
     "name": "stdout",
     "output_type": "stream",
     "text": [
      "<function A.fn at 0x120d04940>\n",
      "<bound method A.fn of <__main__.A object at 0x120cc2cb0>>\n"
     ]
    }
   ],
   "source": [
    "fn = A.__dict__['fn']\n",
    "\n",
    "print(fn.__get__(None, A))\n",
    "print(fn.__get__(a, A))"
   ]
  },
  {
   "cell_type": "code",
   "execution_count": 66,
   "metadata": {},
   "outputs": [
    {
     "name": "stdout",
     "output_type": "stream",
     "text": [
      "fn(self=<__main__.A object at 0x120cc1150>)\n",
      "fn(self=None)\n"
     ]
    }
   ],
   "source": [
    "def fn(self=None):\n",
    "    print(f'fn({self=})')\n",
    "\n",
    "\n",
    "class A:\n",
    "    fn1 = fn\n",
    "    fn2 = functools.partial(fn)\n",
    "\n",
    "\n",
    "a = A()\n",
    "a.fn1()\n",
    "a.fn2()"
   ]
  },
  {
   "cell_type": "code",
   "execution_count": 67,
   "metadata": {},
   "outputs": [
    {
     "name": "stdout",
     "output_type": "stream",
     "text": [
      "<bound method fn of <__main__.A object at 0x120cc1150>>\n",
      "functools.partial(<function fn at 0x120d04ca0>)\n"
     ]
    }
   ],
   "source": [
    "print(a.fn1)\n",
    "print(a.fn2)"
   ]
  },
  {
   "cell_type": "code",
   "execution_count": 68,
   "metadata": {},
   "outputs": [
    {
     "name": "stdout",
     "output_type": "stream",
     "text": [
      "fn(self=<__main__.A object at 0x120cc1150>)\n",
      "fn(self=None)\n"
     ]
    }
   ],
   "source": [
    "fn1 = A.__dict__['fn1']\n",
    "fn1 = fn1.__get__(a, A)\n",
    "fn1()\n",
    "\n",
    "fn2 = A.__dict__['fn2']\n",
    "fn2()"
   ]
  },
  {
   "cell_type": "code",
   "execution_count": 69,
   "metadata": {},
   "outputs": [],
   "source": [
    "class Descriptor:\n",
    "\n",
    "    def __set_name__(self, obj_cls, name):\n",
    "        print(f'__set_name__({obj_cls.__name__}, {name!r})')\n",
    "\n",
    "    def __get__(self, obj, obj_cls):\n",
    "        print(f'Descriptor.__get__({obj}, {obj_cls})')\n",
    "\n",
    "    def __set__(self, obj, value):\n",
    "        print(f'Descriptor.__set__({obj}, {value})')"
   ]
  },
  {
   "cell_type": "code",
   "execution_count": 72,
   "metadata": {},
   "outputs": [
    {
     "name": "stdout",
     "output_type": "stream",
     "text": [
      "__set_name__(A, 'x')\n",
      "__set_name__(A, 'y')\n"
     ]
    }
   ],
   "source": [
    "class A:\n",
    "    x = Descriptor()\n",
    "    y = Descriptor()"
   ]
  },
  {
   "cell_type": "code",
   "execution_count": 73,
   "metadata": {},
   "outputs": [],
   "source": [
    "class Descriptor:\n",
    "\n",
    "    def __set_name__(self, obj_cls, name):\n",
    "        self.name = name\n",
    "        self.type_hint = typing.get_type_hints(obj_cls)[name]\n",
    "\n",
    "    # def __get__(self, obj, obj_cls):\n",
    "    #     pass\n",
    "\n",
    "    def __set__(self, obj, value):\n",
    "        if not isinstance(value, self.type_hint):\n",
    "            raise TypeError(f'Expected {self.name} to be {self.type_hint}. Got {type(value)}')\n",
    "        obj.__dict__[self.name] = value\n",
    "\n",
    "\n",
    "class A:\n",
    "    x: int = Descriptor()\n",
    "    y: str = Descriptor()\n",
    "\n",
    "a = A()\n",
    "a.x = 123\n",
    "a.y = 'abc'"
   ]
  },
  {
   "cell_type": "code",
   "execution_count": 74,
   "metadata": {},
   "outputs": [
    {
     "ename": "TypeError",
     "evalue": "Expected x to be <class 'int'>. Got <class 'str'>",
     "output_type": "error",
     "traceback": [
      "\u001b[0;31m---------------------------------------------------------------------------\u001b[0m",
      "\u001b[0;31mTypeError\u001b[0m                                 Traceback (most recent call last)",
      "\u001b[1;32m/Users/epot/__A__/Code/PythonDemo/py.ipynb Cell 20'\u001b[0m in \u001b[0;36m<cell line: 1>\u001b[0;34m()\u001b[0m\n\u001b[0;32m----> <a href='vscode-notebook-cell:/Users/epot/__A__/Code/PythonDemo/py.ipynb#ch0000103?line=0'>1</a>\u001b[0m a\u001b[39m.\u001b[39mx \u001b[39m=\u001b[39m \u001b[39m'\u001b[39m\u001b[39mabc\u001b[39m\u001b[39m'\u001b[39m\n",
      "\u001b[1;32m/Users/epot/__A__/Code/PythonDemo/py.ipynb Cell 19'\u001b[0m in \u001b[0;36mDescriptor.__set__\u001b[0;34m(self, obj, value)\u001b[0m\n\u001b[1;32m     <a href='vscode-notebook-cell:/Users/epot/__A__/Code/PythonDemo/py.ipynb#ch0000101?line=9'>10</a>\u001b[0m \u001b[39mdef\u001b[39;00m \u001b[39m__set__\u001b[39m(\u001b[39mself\u001b[39m, obj, value):\n\u001b[1;32m     <a href='vscode-notebook-cell:/Users/epot/__A__/Code/PythonDemo/py.ipynb#ch0000101?line=10'>11</a>\u001b[0m     \u001b[39mif\u001b[39;00m \u001b[39mnot\u001b[39;00m \u001b[39misinstance\u001b[39m(value, \u001b[39mself\u001b[39m\u001b[39m.\u001b[39mtype_hint):\n\u001b[0;32m---> <a href='vscode-notebook-cell:/Users/epot/__A__/Code/PythonDemo/py.ipynb#ch0000101?line=11'>12</a>\u001b[0m         \u001b[39mraise\u001b[39;00m \u001b[39mTypeError\u001b[39;00m(\u001b[39mf\u001b[39m\u001b[39m'\u001b[39m\u001b[39mExpected \u001b[39m\u001b[39m{\u001b[39;00m\u001b[39mself\u001b[39m\u001b[39m.\u001b[39mname\u001b[39m}\u001b[39;00m\u001b[39m to be \u001b[39m\u001b[39m{\u001b[39;00m\u001b[39mself\u001b[39m\u001b[39m.\u001b[39mtype_hint\u001b[39m}\u001b[39;00m\u001b[39m. Got \u001b[39m\u001b[39m{\u001b[39;00m\u001b[39mtype\u001b[39m(value)\u001b[39m}\u001b[39;00m\u001b[39m'\u001b[39m)\n\u001b[1;32m     <a href='vscode-notebook-cell:/Users/epot/__A__/Code/PythonDemo/py.ipynb#ch0000101?line=12'>13</a>\u001b[0m     obj\u001b[39m.\u001b[39m\u001b[39m__dict__\u001b[39m[\u001b[39mself\u001b[39m\u001b[39m.\u001b[39mname] \u001b[39m=\u001b[39m value\n",
      "\u001b[0;31mTypeError\u001b[0m: Expected x to be <class 'int'>. Got <class 'str'>"
     ]
    }
   ],
   "source": [
    "a.x = 'abc'"
   ]
  },
  {
   "cell_type": "code",
   "execution_count": 86,
   "metadata": {},
   "outputs": [
    {
     "data": {
      "text/plain": [
       "A(x=1, y=2.0)"
      ]
     },
     "execution_count": 86,
     "metadata": {},
     "output_type": "execute_result"
    }
   ],
   "source": [
    "def my_dataclass(obj_cls):\n",
    "    attr_names = list(typing.get_type_hints(obj_cls))\n",
    "    for attr_name in attr_names:\n",
    "        descriptor = Descriptor()\n",
    "        descriptor.__set_name__(obj_cls, attr_name)\n",
    "        setattr(obj_cls, attr_name, descriptor)\n",
    "\n",
    "    obj_cls.__init__ = make_init(attr_names)\n",
    "    obj_cls.__repr__ = make_repr(attr_names)\n",
    "    return obj_cls\n",
    "\n",
    "@my_dataclass\n",
    "class A:\n",
    "    x: int\n",
    "    y: str | float\n",
    "\n",
    "\n",
    "a = A(1, 2.)\n",
    "# a.x = '123'\n",
    "a"
   ]
  },
  {
   "cell_type": "markdown",
   "metadata": {
    "jp-MarkdownHeadingCollapsed": true,
    "tags": []
   },
   "source": [
    "### inspect.Signature"
   ]
  },
  {
   "cell_type": "code",
   "execution_count": 77,
   "metadata": {},
   "outputs": [
    {
     "name": "stdout",
     "output_type": "stream",
     "text": [
      "(x, y, *, z=None)\n"
     ]
    }
   ],
   "source": [
    "signature = inspect.Signature([\n",
    "    inspect.Parameter('x', kind=inspect.Parameter.POSITIONAL_OR_KEYWORD),\n",
    "    inspect.Parameter('y', kind=inspect.Parameter.POSITIONAL_OR_KEYWORD),\n",
    "    inspect.Parameter('z', kind=inspect.Parameter.KEYWORD_ONLY, default=None),\n",
    "])\n",
    "\n",
    "print(signature)"
   ]
  },
  {
   "cell_type": "code",
   "execution_count": 80,
   "metadata": {},
   "outputs": [
    {
     "ename": "TypeError",
     "evalue": "got an unexpected keyword argument 'w'",
     "output_type": "error",
     "traceback": [
      "\u001b[0;31m---------------------------------------------------------------------------\u001b[0m",
      "\u001b[0;31mTypeError\u001b[0m                                 Traceback (most recent call last)",
      "\u001b[1;32m/Users/epot/__A__/Code/PythonDemo/py.ipynb Cell 24'\u001b[0m in \u001b[0;36m<cell line: 1>\u001b[0;34m()\u001b[0m\n\u001b[0;32m----> <a href='vscode-notebook-cell:/Users/epot/__A__/Code/PythonDemo/py.ipynb#ch0000020?line=0'>1</a>\u001b[0m b \u001b[39m=\u001b[39m signature\u001b[39m.\u001b[39;49mbind(\u001b[39m1\u001b[39;49m, \u001b[39m4\u001b[39;49m, w\u001b[39m=\u001b[39;49m\u001b[39m2\u001b[39;49m)\n\u001b[1;32m      <a href='vscode-notebook-cell:/Users/epot/__A__/Code/PythonDemo/py.ipynb#ch0000020?line=1'>2</a>\u001b[0m b\n",
      "File \u001b[0;32m~/.pyenv/versions/3.10.0/lib/python3.10/inspect.py:3177\u001b[0m, in \u001b[0;36mSignature.bind\u001b[0;34m(self, *args, **kwargs)\u001b[0m\n\u001b[1;32m   <a href='file:///Users/epot/.pyenv/versions/3.10.0/lib/python3.10/inspect.py?line=3171'>3172</a>\u001b[0m \u001b[39mdef\u001b[39;00m \u001b[39mbind\u001b[39m(\u001b[39mself\u001b[39m, \u001b[39m/\u001b[39m, \u001b[39m*\u001b[39margs, \u001b[39m*\u001b[39m\u001b[39m*\u001b[39mkwargs):\n\u001b[1;32m   <a href='file:///Users/epot/.pyenv/versions/3.10.0/lib/python3.10/inspect.py?line=3172'>3173</a>\u001b[0m     \u001b[39m\"\"\"Get a BoundArguments object, that maps the passed `args`\u001b[39;00m\n\u001b[1;32m   <a href='file:///Users/epot/.pyenv/versions/3.10.0/lib/python3.10/inspect.py?line=3173'>3174</a>\u001b[0m \u001b[39m    and `kwargs` to the function's signature.  Raises `TypeError`\u001b[39;00m\n\u001b[1;32m   <a href='file:///Users/epot/.pyenv/versions/3.10.0/lib/python3.10/inspect.py?line=3174'>3175</a>\u001b[0m \u001b[39m    if the passed arguments can not be bound.\u001b[39;00m\n\u001b[1;32m   <a href='file:///Users/epot/.pyenv/versions/3.10.0/lib/python3.10/inspect.py?line=3175'>3176</a>\u001b[0m \u001b[39m    \"\"\"\u001b[39;00m\n\u001b[0;32m-> <a href='file:///Users/epot/.pyenv/versions/3.10.0/lib/python3.10/inspect.py?line=3176'>3177</a>\u001b[0m     \u001b[39mreturn\u001b[39;00m \u001b[39mself\u001b[39;49m\u001b[39m.\u001b[39;49m_bind(args, kwargs)\n",
      "File \u001b[0;32m~/.pyenv/versions/3.10.0/lib/python3.10/inspect.py:3166\u001b[0m, in \u001b[0;36mSignature._bind\u001b[0;34m(self, args, kwargs, partial)\u001b[0m\n\u001b[1;32m   <a href='file:///Users/epot/.pyenv/versions/3.10.0/lib/python3.10/inspect.py?line=3163'>3164</a>\u001b[0m         arguments[kwargs_param\u001b[39m.\u001b[39mname] \u001b[39m=\u001b[39m kwargs\n\u001b[1;32m   <a href='file:///Users/epot/.pyenv/versions/3.10.0/lib/python3.10/inspect.py?line=3164'>3165</a>\u001b[0m     \u001b[39melse\u001b[39;00m:\n\u001b[0;32m-> <a href='file:///Users/epot/.pyenv/versions/3.10.0/lib/python3.10/inspect.py?line=3165'>3166</a>\u001b[0m         \u001b[39mraise\u001b[39;00m \u001b[39mTypeError\u001b[39;00m(\n\u001b[1;32m   <a href='file:///Users/epot/.pyenv/versions/3.10.0/lib/python3.10/inspect.py?line=3166'>3167</a>\u001b[0m             \u001b[39m'\u001b[39m\u001b[39mgot an unexpected keyword argument \u001b[39m\u001b[39m{arg!r}\u001b[39;00m\u001b[39m'\u001b[39m\u001b[39m.\u001b[39mformat(\n\u001b[1;32m   <a href='file:///Users/epot/.pyenv/versions/3.10.0/lib/python3.10/inspect.py?line=3167'>3168</a>\u001b[0m                 arg\u001b[39m=\u001b[39m\u001b[39mnext\u001b[39m(\u001b[39miter\u001b[39m(kwargs))))\n\u001b[1;32m   <a href='file:///Users/epot/.pyenv/versions/3.10.0/lib/python3.10/inspect.py?line=3169'>3170</a>\u001b[0m \u001b[39mreturn\u001b[39;00m \u001b[39mself\u001b[39m\u001b[39m.\u001b[39m_bound_arguments_cls(\u001b[39mself\u001b[39m, arguments)\n",
      "\u001b[0;31mTypeError\u001b[0m: got an unexpected keyword argument 'w'"
     ]
    }
   ],
   "source": [
    "b = signature.bind(1, 4, w=2)\n",
    "b"
   ]
  },
  {
   "cell_type": "code",
   "execution_count": 81,
   "metadata": {},
   "outputs": [],
   "source": [
    "def make_init(attr_names):\n",
    "    params = [\n",
    "        inspect.Parameter(name, kind=inspect.Parameter.POSITIONAL_OR_KEYWORD)\n",
    "        for name in attr_names\n",
    "    ]\n",
    "    signature = inspect.Signature(params)\n",
    "    \n",
    "\n",
    "    def __init__(self, *args, **kwargs):\n",
    "        bound_arguments = signature.bind(*args, **kwargs)\n",
    "        for k, v in bound_arguments.arguments.items():\n",
    "            setattr(self, k, v)\n",
    "\n",
    "    return __init__\n",
    "\n",
    "\n",
    "def make_repr(attr_names):\n",
    "    def __repr__(self):\n",
    "        attr_str = [f'{name}={getattr(self, name)!r}' for name in attr_names]\n",
    "        attr_str = ', '.join(attr_str)\n",
    "        return f'{self.__class__.__qualname__}({attr_str})'\n",
    "    return __repr__\n",
    "\n"
   ]
  },
  {
   "cell_type": "markdown",
   "metadata": {
    "jp-MarkdownHeadingCollapsed": true,
    "tags": []
   },
   "source": [
    "### `__init_subclass__`"
   ]
  },
  {
   "cell_type": "code",
   "execution_count": 94,
   "metadata": {},
   "outputs": [
    {
     "data": {
      "text/plain": [
       "[__main__.Mnist, __main__.Cifar, __main__.Imagenet]"
      ]
     },
     "execution_count": 94,
     "metadata": {},
     "output_type": "execute_result"
    }
   ],
   "source": [
    "class Dataset:\n",
    "    subclasses = []\n",
    "\n",
    "    def __init_subclass__(cls, **kwargs):\n",
    "        cls.subclasses.append(cls)\n",
    "        super().__init_subclass__(**kwargs)\n",
    "\n",
    "\n",
    "class Mnist(Dataset):\n",
    "    pass\n",
    "\n",
    "\n",
    "class Cifar(Dataset):\n",
    "    pass\n",
    "\n",
    "\n",
    "class Imagenet(Dataset):\n",
    "    pass\n",
    "\n",
    "\n",
    "Dataset.subclasses"
   ]
  },
  {
   "cell_type": "code",
   "execution_count": 95,
   "metadata": {},
   "outputs": [
    {
     "data": {
      "text/plain": [
       "[__main__.Mnist, __main__.Cifar]"
      ]
     },
     "execution_count": 95,
     "metadata": {},
     "output_type": "execute_result"
    }
   ],
   "source": [
    "class Dataset:\n",
    "    subclasses = []\n",
    "\n",
    "    def __init_subclass__(cls, skip=False, **kwargs):\n",
    "        if not skip:\n",
    "            cls.subclasses.append(cls)\n",
    "        super().__init_subclass__(**kwargs)\n",
    "\n",
    "\n",
    "class Mnist(Dataset):\n",
    "    pass\n",
    "\n",
    "\n",
    "class Cifar(Dataset):\n",
    "    pass\n",
    "\n",
    "\n",
    "class Imagenet(Dataset, skip=True):\n",
    "    pass\n",
    "\n",
    "\n",
    "Dataset.subclasses"
   ]
  },
  {
   "cell_type": "markdown",
   "metadata": {
    "jp-MarkdownHeadingCollapsed": true,
    "tags": []
   },
   "source": [
    "### `__new__`"
   ]
  },
  {
   "cell_type": "code",
   "execution_count": 96,
   "metadata": {},
   "outputs": [
    {
     "data": {
      "text/plain": [
       "<__main__.A at 0x12091de40>"
      ]
     },
     "execution_count": 96,
     "metadata": {},
     "output_type": "execute_result"
    }
   ],
   "source": [
    "class A:\n",
    "    pass\n",
    "\n",
    "A()"
   ]
  },
  {
   "cell_type": "code",
   "execution_count": 97,
   "metadata": {},
   "outputs": [
    {
     "data": {
      "text/plain": [
       "<__main__.B at 0x120de79d0>"
      ]
     },
     "execution_count": 97,
     "metadata": {},
     "output_type": "execute_result"
    }
   ],
   "source": [
    "class B:\n",
    "    pass\n",
    "\n",
    "\n",
    "class A:\n",
    "\n",
    "    def __new__(cls, x):\n",
    "        return B()\n",
    "\n",
    "    def __init__(self, x):\n",
    "        pass\n",
    "\n",
    "A(x=1)"
   ]
  },
  {
   "cell_type": "code",
   "execution_count": 98,
   "metadata": {},
   "outputs": [
    {
     "data": {
      "text/plain": [
       "<__main__.B at 0x12091d150>"
      ]
     },
     "execution_count": 98,
     "metadata": {},
     "output_type": "execute_result"
    }
   ],
   "source": [
    "A.__new__(A, x=1)"
   ]
  },
  {
   "cell_type": "code",
   "execution_count": null,
   "metadata": {},
   "outputs": [],
   "source": [
    "args = ()\n",
    "kwargs = {'x': 1}\n",
    "\n",
    "a = A.__new__(A, *args, **kwargs)\n",
    "if (\n",
    "    isinstance(a, A)\n",
    "    and type(a).__init__ is not object.__init__\n",
    "):\n",
    "    a.__init__(*args, **kwargs)\n",
    "a"
   ]
  },
  {
   "cell_type": "code",
   "execution_count": 104,
   "metadata": {},
   "outputs": [
    {
     "data": {
      "text/plain": [
       "<__main__.Mnist at 0x120e5a650>"
      ]
     },
     "execution_count": 104,
     "metadata": {},
     "output_type": "execute_result"
    }
   ],
   "source": [
    "class Dataset:\n",
    "    subclasses = {}\n",
    "\n",
    "    def __init_subclass__(cls, **kwargs):\n",
    "        cls.subclasses[cls.__name__.lower()] = cls\n",
    "\n",
    "        csl.__init__\n",
    "        super().__init_subclass__(**kwargs)\n",
    "\n",
    "    def __new__(cls, name):\n",
    "        if cls is Dataset:\n",
    "            cls = cls.subclasses[name.lower()]\n",
    "\n",
    "        self = super().__new__(cls)\n",
    "        self.internal = True\n",
    "        return self\n",
    "\n",
    "    def __init__(self):\n",
    "        super().__init__()\n",
    "\n",
    "class Mnist(Dataset):\n",
    "\n",
    "    def __init__(self):\n",
    "        super().__init__()\n",
    "\n",
    "\n",
    "class Cifar(Dataset):\n",
    "    pass\n",
    "\n",
    "\n",
    "class Imagenet(Dataset):\n",
    "    pass\n",
    "\n",
    "\n",
    "\n",
    "mnist = Dataset('mnist')\n",
    "mnist"
   ]
  },
  {
   "cell_type": "markdown",
   "metadata": {
    "tags": []
   },
   "source": [
    "### Metaclass"
   ]
  },
  {
   "cell_type": "code",
   "execution_count": 105,
   "metadata": {},
   "outputs": [],
   "source": [
    "class A:\n",
    "    pass\n",
    "\n",
    "a = A()"
   ]
  },
  {
   "cell_type": "code",
   "execution_count": 106,
   "metadata": {},
   "outputs": [
    {
     "data": {
      "text/plain": [
       "__main__.A"
      ]
     },
     "execution_count": 106,
     "metadata": {},
     "output_type": "execute_result"
    }
   ],
   "source": [
    "type(a)"
   ]
  },
  {
   "cell_type": "code",
   "execution_count": 108,
   "metadata": {},
   "outputs": [
    {
     "data": {
      "text/plain": [
       "type"
      ]
     },
     "execution_count": 108,
     "metadata": {},
     "output_type": "execute_result"
    }
   ],
   "source": [
    "type(A)"
   ]
  },
  {
   "cell_type": "code",
   "execution_count": 109,
   "metadata": {},
   "outputs": [
    {
     "name": "stdout",
     "output_type": "stream",
     "text": [
      "<class 'str'>\n",
      "<class 'int'>\n",
      "<class 'bool'>\n",
      "<class '__main__.A'>\n",
      "\n",
      "<class 'type'>\n",
      "<class 'type'>\n",
      "<class 'type'>\n",
      "<class 'type'>\n"
     ]
    }
   ],
   "source": [
    "print(type('abc'))\n",
    "print(type(123))\n",
    "print(type(True))\n",
    "print(type(a))\n",
    "\n",
    "print()\n",
    "\n",
    "print(type(str))\n",
    "print(type(int))\n",
    "print(type(bool))\n",
    "print(type(A))"
   ]
  },
  {
   "cell_type": "code",
   "execution_count": 110,
   "metadata": {},
   "outputs": [
    {
     "name": "stdout",
     "output_type": "stream",
     "text": [
      "<class 'type'>\n"
     ]
    }
   ],
   "source": [
    "print(type(type))"
   ]
  },
  {
   "cell_type": "code",
   "execution_count": null,
   "metadata": {},
   "outputs": [],
   "source": [
    "a = A()"
   ]
  },
  {
   "cell_type": "code",
   "execution_count": 111,
   "metadata": {},
   "outputs": [
    {
     "data": {
      "text/plain": [
       "<__main__.A at 0x120e5b970>"
      ]
     },
     "execution_count": 111,
     "metadata": {},
     "output_type": "execute_result"
    }
   ],
   "source": [
    "A = type('A', (), {})  # class_name, bases, attributes dict\n",
    "\n",
    "A()"
   ]
  },
  {
   "cell_type": "code",
   "execution_count": 112,
   "metadata": {},
   "outputs": [],
   "source": [
    "class MetaA(type):\n",
    "    pass\n",
    "\n",
    "class A(metaclass=MetaA):\n",
    "    pass\n",
    "\n",
    "a = A()"
   ]
  },
  {
   "cell_type": "code",
   "execution_count": 113,
   "metadata": {},
   "outputs": [
    {
     "data": {
      "text/plain": [
       "__main__.A"
      ]
     },
     "execution_count": 113,
     "metadata": {},
     "output_type": "execute_result"
    }
   ],
   "source": [
    "type(a)"
   ]
  },
  {
   "cell_type": "code",
   "execution_count": 114,
   "metadata": {},
   "outputs": [
    {
     "data": {
      "text/plain": [
       "__main__.MetaA"
      ]
     },
     "execution_count": 114,
     "metadata": {},
     "output_type": "execute_result"
    }
   ],
   "source": [
    "type(A)"
   ]
  },
  {
   "cell_type": "code",
   "execution_count": 115,
   "metadata": {},
   "outputs": [
    {
     "data": {
      "text/plain": [
       "<__main__.A at 0x120e59ed0>"
      ]
     },
     "execution_count": 115,
     "metadata": {},
     "output_type": "execute_result"
    }
   ],
   "source": [
    "A = MetaA('A', (), {})\n",
    "\n",
    "A()"
   ]
  },
  {
   "cell_type": "code",
   "execution_count": 120,
   "metadata": {},
   "outputs": [],
   "source": [
    "class MetaA:  # (type):\n",
    "\n",
    "    def __repr__(self):\n",
    "        return 'MetaA()'\n",
    "\n",
    "class A(MetaA): # (metaclass=MetaA):\n",
    "\n",
    "    def __repr__(self):\n",
    "        return 'A()'\n",
    "\n",
    "a = A()"
   ]
  },
  {
   "cell_type": "code",
   "execution_count": 121,
   "metadata": {},
   "outputs": [
    {
     "data": {
      "text/plain": [
       "'A()'"
      ]
     },
     "execution_count": 121,
     "metadata": {},
     "output_type": "execute_result"
    }
   ],
   "source": [
    "repr(a)"
   ]
  },
  {
   "cell_type": "code",
   "execution_count": 122,
   "metadata": {},
   "outputs": [
    {
     "data": {
      "text/plain": [
       "\"<class '__main__.A'>\""
      ]
     },
     "execution_count": 122,
     "metadata": {},
     "output_type": "execute_result"
    }
   ],
   "source": [
    "repr(A)"
   ]
  },
  {
   "cell_type": "code",
   "execution_count": null,
   "metadata": {},
   "outputs": [],
   "source": [
    "class MetaA(type):\n",
    "\n",
    "    def __add__(self, other):\n",
    "        return MetaA(f'{self.__name__}{other.__name__}', (self, other), {})\n",
    "\n",
    "    # def __add__(self, other):\n",
    "    #     return MetaA(f'{self.}', (self, other), {})\n",
    "\n",
    "\n",
    "class A(metaclass=MetaA):\n",
    "    x = 1\n",
    "\n",
    "    def fn(self):\n",
    "        return f'{type(self).__name__}.fn'\n",
    "\n",
    "\n",
    "class B:\n",
    "    y = 2\n",
    "\n",
    "C = A + B"
   ]
  },
  {
   "cell_type": "code",
   "execution_count": 131,
   "metadata": {},
   "outputs": [
    {
     "data": {
      "text/plain": [
       "__main__.A"
      ]
     },
     "execution_count": 131,
     "metadata": {},
     "output_type": "execute_result"
    }
   ],
   "source": [
    "class MetaA(type):\n",
    "\n",
    "    def __add__(self, other):\n",
    "        return MetaA(f'{self.__name__}{other.__name__}', (self, other), {})\n",
    "\n",
    "    def __getitem__(self, key):\n",
    "        return self\n",
    "\n",
    "\n",
    "class A: # (metaclass=MetaA):\n",
    "    x = 1\n",
    "\n",
    "    def __class_getitem__(self, key):\n",
    "        return self\n",
    "\n",
    "\n",
    "    def fn(self):\n",
    "        return f'{type(self).__name__}.fn'\n",
    "\n",
    "\n",
    "class B:\n",
    "    y = 2\n",
    "\n",
    "# C = A + B\n",
    "\n",
    "A[int]"
   ]
  },
  {
   "cell_type": "code",
   "execution_count": 130,
   "metadata": {},
   "outputs": [
    {
     "data": {
      "text/plain": [
       "__main__.A"
      ]
     },
     "execution_count": 130,
     "metadata": {},
     "output_type": "execute_result"
    }
   ],
   "source": [
    "A[int]"
   ]
  },
  {
   "cell_type": "code",
   "execution_count": 128,
   "metadata": {},
   "outputs": [
    {
     "data": {
      "text/plain": [
       "2"
      ]
     },
     "execution_count": 128,
     "metadata": {},
     "output_type": "execute_result"
    }
   ],
   "source": [
    "c = C()\n",
    "c.y"
   ]
  },
  {
   "cell_type": "code",
   "execution_count": 132,
   "metadata": {},
   "outputs": [
    {
     "data": {
      "text/html": [
       "This is <a href=\"#link\">a A()</a>"
      ],
      "text/plain": [
       "<__main__.A at 0x120de47f0>"
      ]
     },
     "execution_count": 132,
     "metadata": {},
     "output_type": "execute_result"
    }
   ],
   "source": [
    "class MetaA(type):\n",
    "\n",
    "    def _repr_html_(self):\n",
    "        return 'This is a <a href=\"#link\">MetaA()</a>'\n",
    "\n",
    "\n",
    "class A(metaclass=MetaA):\n",
    "\n",
    "    def _repr_html_(self):\n",
    "        return 'This is <a href=\"#link\">a A()</a>'\n",
    "\n",
    "\n",
    "a = A()\n",
    "a"
   ]
  },
  {
   "cell_type": "code",
   "execution_count": 133,
   "metadata": {},
   "outputs": [
    {
     "data": {
      "text/plain": [
       "__main__.A"
      ]
     },
     "execution_count": 133,
     "metadata": {},
     "output_type": "execute_result"
    }
   ],
   "source": [
    "A"
   ]
  },
  {
   "cell_type": "code",
   "execution_count": 10,
   "metadata": {
    "tags": []
   },
   "outputs": [
    {
     "data": {
      "image/svg+xml": "<?xml version=\"1.0\" encoding=\"UTF-8\" standalone=\"no\"?>\n<!DOCTYPE svg PUBLIC \"-//W3C//DTD SVG 1.1//EN\"\n \"http://www.w3.org/Graphics/SVG/1.1/DTD/svg11.dtd\">\n<!-- Generated by graphviz version 3.0.0 (20220226.1711)\n -->\n<!-- Pages: 1 -->\n<svg width=\"73pt\" height=\"116pt\"\n viewBox=\"0.00 0.00 72.99 116.00\" xmlns=\"http://www.w3.org/2000/svg\" xmlns:xlink=\"http://www.w3.org/1999/xlink\">\n<g id=\"graph0\" class=\"graph\" transform=\"scale(1 1) rotate(0) translate(4 112)\">\n<polygon fill=\"white\" stroke=\"transparent\" points=\"-4,4 -4,-112 68.99,-112 68.99,4 -4,4\"/>\n<!-- A -->\n<g id=\"node1\" class=\"node\">\n<title>A</title>\n<ellipse fill=\"none\" stroke=\"black\" cx=\"32.5\" cy=\"-18\" rx=\"27\" ry=\"18\"/>\n<text text-anchor=\"middle\" x=\"32.5\" y=\"-14.3\" font-family=\"Times,serif\" font-size=\"14.00\">A</text>\n</g>\n<!-- object -->\n<g id=\"node2\" class=\"node\">\n<title>object</title>\n<ellipse fill=\"none\" stroke=\"black\" cx=\"32.5\" cy=\"-90\" rx=\"32.49\" ry=\"18\"/>\n<text text-anchor=\"middle\" x=\"32.5\" y=\"-86.3\" font-family=\"Times,serif\" font-size=\"14.00\">object</text>\n</g>\n<!-- object&#45;&gt;A -->\n<g id=\"edge1\" class=\"edge\">\n<title>object&#45;&gt;A</title>\n<path fill=\"none\" stroke=\"black\" d=\"M32.5,-61.67C32.5,-53.05 32.5,-43.79 32.5,-36.1\"/>\n<polygon fill=\"black\" stroke=\"black\" points=\"29,-61.7 32.5,-71.7 36,-61.7 29,-61.7\"/>\n</g>\n</g>\n</svg>\n",
      "text/plain": [
       "<graphviz.graphs.Digraph at 0x10ce0be20>"
      ]
     },
     "execution_count": 10,
     "metadata": {},
     "output_type": "execute_result"
    }
   ],
   "source": [
    "import graphviz\n",
    "        \n",
    "def _build_graph(dot, obj: type):\n",
    "    for parent in obj.__bases__:\n",
    "        dot.edge(parent.__name__, obj.__name__, dir='back')\n",
    "        _build_graph(dot, parent)\n",
    "\n",
    "def _make_graph(obj: type):\n",
    "    dot = graphviz.Digraph(strict=True)\n",
    "    dot.node(obj.__name__)\n",
    "    _build_graph(dot, obj)\n",
    "    return dot\n",
    "\n",
    "\n",
    "class MetaGraph(type):\n",
    "\n",
    "    def __pos__(self):\n",
    "        return _make_graph(self)\n",
    "\n",
    "\n",
    "class A(metaclass=MetaGraph):\n",
    "    pass\n",
    "\n",
    "+A"
   ]
  },
  {
   "cell_type": "markdown",
   "metadata": {
    "jp-MarkdownHeadingCollapsed": true,
    "tags": []
   },
   "source": [
    "### Method resolution order"
   ]
  },
  {
   "cell_type": "code",
   "execution_count": 141,
   "metadata": {},
   "outputs": [
    {
     "data": {
      "image/svg+xml": "<?xml version=\"1.0\" encoding=\"UTF-8\" standalone=\"no\"?>\n<!DOCTYPE svg PUBLIC \"-//W3C//DTD SVG 1.1//EN\"\n \"http://www.w3.org/Graphics/SVG/1.1/DTD/svg11.dtd\">\n<!-- Generated by graphviz version 3.0.0 (20220226.1711)\n -->\n<!-- Pages: 1 -->\n<svg width=\"134pt\" height=\"260pt\"\n viewBox=\"0.00 0.00 134.00 260.00\" xmlns=\"http://www.w3.org/2000/svg\" xmlns:xlink=\"http://www.w3.org/1999/xlink\">\n<g id=\"graph0\" class=\"graph\" transform=\"scale(1 1) rotate(0) translate(4 256)\">\n<polygon fill=\"white\" stroke=\"transparent\" points=\"-4,4 -4,-256 130,-256 130,4 -4,4\"/>\n<!-- D -->\n<g id=\"node1\" class=\"node\">\n<title>D</title>\n<ellipse fill=\"none\" stroke=\"black\" cx=\"63\" cy=\"-18\" rx=\"27\" ry=\"18\"/>\n<text text-anchor=\"middle\" x=\"63\" y=\"-14.3\" font-family=\"Times,serif\" font-size=\"14.00\">D</text>\n</g>\n<!-- B -->\n<g id=\"node2\" class=\"node\">\n<title>B</title>\n<ellipse fill=\"none\" stroke=\"black\" cx=\"27\" cy=\"-90\" rx=\"27\" ry=\"18\"/>\n<text text-anchor=\"middle\" x=\"27\" y=\"-86.3\" font-family=\"Times,serif\" font-size=\"14.00\">B</text>\n</g>\n<!-- B&#45;&gt;D -->\n<g id=\"edge1\" class=\"edge\">\n<title>B&#45;&gt;D</title>\n<path fill=\"none\" stroke=\"black\" d=\"M40.01,-63.7C44.91,-54.18 50.34,-43.61 54.7,-35.15\"/>\n<polygon fill=\"black\" stroke=\"black\" points=\"36.81,-62.27 35.35,-72.76 43.04,-65.47 36.81,-62.27\"/>\n</g>\n<!-- A -->\n<g id=\"node3\" class=\"node\">\n<title>A</title>\n<ellipse fill=\"none\" stroke=\"black\" cx=\"63\" cy=\"-162\" rx=\"27\" ry=\"18\"/>\n<text text-anchor=\"middle\" x=\"63\" y=\"-158.3\" font-family=\"Times,serif\" font-size=\"14.00\">A</text>\n</g>\n<!-- A&#45;&gt;B -->\n<g id=\"edge2\" class=\"edge\">\n<title>A&#45;&gt;B</title>\n<path fill=\"none\" stroke=\"black\" d=\"M49.99,-135.7C45.09,-126.18 39.66,-115.61 35.3,-107.15\"/>\n<polygon fill=\"black\" stroke=\"black\" points=\"46.96,-137.47 54.65,-144.76 53.19,-134.27 46.96,-137.47\"/>\n</g>\n<!-- C -->\n<g id=\"node5\" class=\"node\">\n<title>C</title>\n<ellipse fill=\"none\" stroke=\"black\" cx=\"99\" cy=\"-90\" rx=\"27\" ry=\"18\"/>\n<text text-anchor=\"middle\" x=\"99\" y=\"-86.3\" font-family=\"Times,serif\" font-size=\"14.00\">C</text>\n</g>\n<!-- A&#45;&gt;C -->\n<g id=\"edge5\" class=\"edge\">\n<title>A&#45;&gt;C</title>\n<path fill=\"none\" stroke=\"black\" d=\"M76.01,-135.7C80.91,-126.18 86.34,-115.61 90.7,-107.15\"/>\n<polygon fill=\"black\" stroke=\"black\" points=\"72.81,-134.27 71.35,-144.76 79.04,-137.47 72.81,-134.27\"/>\n</g>\n<!-- object -->\n<g id=\"node4\" class=\"node\">\n<title>object</title>\n<ellipse fill=\"none\" stroke=\"black\" cx=\"63\" cy=\"-234\" rx=\"32.49\" ry=\"18\"/>\n<text text-anchor=\"middle\" x=\"63\" y=\"-230.3\" font-family=\"Times,serif\" font-size=\"14.00\">object</text>\n</g>\n<!-- object&#45;&gt;A -->\n<g id=\"edge3\" class=\"edge\">\n<title>object&#45;&gt;A</title>\n<path fill=\"none\" stroke=\"black\" d=\"M63,-205.67C63,-197.05 63,-187.79 63,-180.1\"/>\n<polygon fill=\"black\" stroke=\"black\" points=\"59.5,-205.7 63,-215.7 66.5,-205.7 59.5,-205.7\"/>\n</g>\n<!-- C&#45;&gt;D -->\n<g id=\"edge4\" class=\"edge\">\n<title>C&#45;&gt;D</title>\n<path fill=\"none\" stroke=\"black\" d=\"M85.99,-63.7C81.09,-54.18 75.66,-43.61 71.3,-35.15\"/>\n<polygon fill=\"black\" stroke=\"black\" points=\"82.96,-65.47 90.65,-72.76 89.19,-62.27 82.96,-65.47\"/>\n</g>\n</g>\n</svg>\n",
      "text/plain": [
       "<graphviz.graphs.Digraph at 0x120f1ee90>"
      ]
     },
     "execution_count": 141,
     "metadata": {},
     "output_type": "execute_result"
    }
   ],
   "source": [
    "class A(metaclass=MetaGraph):\n",
    "    def __init__(self):\n",
    "        print('A')\n",
    "        super().__init__()\n",
    "\n",
    "class B(A):\n",
    "    def __init__(self):\n",
    "        print('B')\n",
    "        super().__init__()\n",
    "        print('end B')\n",
    "\n",
    "class C(A):\n",
    "    def __init__(self):\n",
    "        print('C')\n",
    "        super().__init__()\n",
    "\n",
    "class D(B, C):\n",
    "    def __init__(self):\n",
    "        print('D')\n",
    "        super().__init__()\n",
    "\n",
    "+D"
   ]
  },
  {
   "cell_type": "code",
   "execution_count": 140,
   "metadata": {},
   "outputs": [
    {
     "name": "stdout",
     "output_type": "stream",
     "text": [
      "D\n",
      "B\n",
      "C\n",
      "A\n"
     ]
    },
    {
     "data": {
      "text/plain": [
       "<__main__.D at 0x120e587c0>"
      ]
     },
     "execution_count": 140,
     "metadata": {},
     "output_type": "execute_result"
    }
   ],
   "source": [
    "D()"
   ]
  },
  {
   "cell_type": "code",
   "execution_count": 142,
   "metadata": {},
   "outputs": [
    {
     "data": {
      "text/plain": [
       "[__main__.D, __main__.B, __main__.C, __main__.A, object]"
      ]
     },
     "execution_count": 142,
     "metadata": {},
     "output_type": "execute_result"
    }
   ],
   "source": [
    "D.mro()"
   ]
  },
  {
   "cell_type": "code",
   "execution_count": 143,
   "metadata": {},
   "outputs": [
    {
     "data": {
      "image/svg+xml": "<?xml version=\"1.0\" encoding=\"UTF-8\" standalone=\"no\"?>\n<!DOCTYPE svg PUBLIC \"-//W3C//DTD SVG 1.1//EN\"\n \"http://www.w3.org/Graphics/SVG/1.1/DTD/svg11.dtd\">\n<!-- Generated by graphviz version 3.0.0 (20220226.1711)\n -->\n<!-- Pages: 1 -->\n<svg width=\"73pt\" height=\"260pt\"\n viewBox=\"0.00 0.00 72.99 260.00\" xmlns=\"http://www.w3.org/2000/svg\" xmlns:xlink=\"http://www.w3.org/1999/xlink\">\n<g id=\"graph0\" class=\"graph\" transform=\"scale(1 1) rotate(0) translate(4 256)\">\n<polygon fill=\"white\" stroke=\"transparent\" points=\"-4,4 -4,-256 68.99,-256 68.99,4 -4,4\"/>\n<!-- C -->\n<g id=\"node1\" class=\"node\">\n<title>C</title>\n<ellipse fill=\"none\" stroke=\"black\" cx=\"32.5\" cy=\"-18\" rx=\"27\" ry=\"18\"/>\n<text text-anchor=\"middle\" x=\"32.5\" y=\"-14.3\" font-family=\"Times,serif\" font-size=\"14.00\">C</text>\n</g>\n<!-- B -->\n<g id=\"node2\" class=\"node\">\n<title>B</title>\n<ellipse fill=\"none\" stroke=\"black\" cx=\"32.5\" cy=\"-90\" rx=\"27\" ry=\"18\"/>\n<text text-anchor=\"middle\" x=\"32.5\" y=\"-86.3\" font-family=\"Times,serif\" font-size=\"14.00\">B</text>\n</g>\n<!-- B&#45;&gt;C -->\n<g id=\"edge1\" class=\"edge\">\n<title>B&#45;&gt;C</title>\n<path fill=\"none\" stroke=\"black\" d=\"M32.5,-61.67C32.5,-53.05 32.5,-43.79 32.5,-36.1\"/>\n<polygon fill=\"black\" stroke=\"black\" points=\"29,-61.7 32.5,-71.7 36,-61.7 29,-61.7\"/>\n</g>\n<!-- A -->\n<g id=\"node3\" class=\"node\">\n<title>A</title>\n<ellipse fill=\"none\" stroke=\"black\" cx=\"32.5\" cy=\"-162\" rx=\"27\" ry=\"18\"/>\n<text text-anchor=\"middle\" x=\"32.5\" y=\"-158.3\" font-family=\"Times,serif\" font-size=\"14.00\">A</text>\n</g>\n<!-- A&#45;&gt;B -->\n<g id=\"edge2\" class=\"edge\">\n<title>A&#45;&gt;B</title>\n<path fill=\"none\" stroke=\"black\" d=\"M32.5,-133.67C32.5,-125.05 32.5,-115.79 32.5,-108.1\"/>\n<polygon fill=\"black\" stroke=\"black\" points=\"29,-133.7 32.5,-143.7 36,-133.7 29,-133.7\"/>\n</g>\n<!-- object -->\n<g id=\"node4\" class=\"node\">\n<title>object</title>\n<ellipse fill=\"none\" stroke=\"black\" cx=\"32.5\" cy=\"-234\" rx=\"32.49\" ry=\"18\"/>\n<text text-anchor=\"middle\" x=\"32.5\" y=\"-230.3\" font-family=\"Times,serif\" font-size=\"14.00\">object</text>\n</g>\n<!-- object&#45;&gt;A -->\n<g id=\"edge3\" class=\"edge\">\n<title>object&#45;&gt;A</title>\n<path fill=\"none\" stroke=\"black\" d=\"M32.5,-205.67C32.5,-197.05 32.5,-187.79 32.5,-180.1\"/>\n<polygon fill=\"black\" stroke=\"black\" points=\"29,-205.7 32.5,-215.7 36,-205.7 29,-205.7\"/>\n</g>\n</g>\n</svg>\n",
      "text/plain": [
       "<graphviz.graphs.Digraph at 0x120f1e170>"
      ]
     },
     "execution_count": 143,
     "metadata": {},
     "output_type": "execute_result"
    }
   ],
   "source": [
    "class A(metaclass=MetaGraph):\n",
    "    def __init__(self):\n",
    "        print('A')\n",
    "        super().__init__()\n",
    "\n",
    "class B(A):\n",
    "    def __init__(self):\n",
    "        print('B')\n",
    "        super().__init__()\n",
    "\n",
    "class C(B):\n",
    "    def __init__(self):\n",
    "        print('C')\n",
    "        super().__init__()\n",
    "\n",
    "+C"
   ]
  },
  {
   "cell_type": "code",
   "execution_count": 144,
   "metadata": {},
   "outputs": [
    {
     "data": {
      "image/svg+xml": "<?xml version=\"1.0\" encoding=\"UTF-8\" standalone=\"no\"?>\n<!DOCTYPE svg PUBLIC \"-//W3C//DTD SVG 1.1//EN\"\n \"http://www.w3.org/Graphics/SVG/1.1/DTD/svg11.dtd\">\n<!-- Generated by graphviz version 3.0.0 (20220226.1711)\n -->\n<!-- Pages: 1 -->\n<svg width=\"164pt\" height=\"332pt\"\n viewBox=\"0.00 0.00 164.25 332.00\" xmlns=\"http://www.w3.org/2000/svg\" xmlns:xlink=\"http://www.w3.org/1999/xlink\">\n<g id=\"graph0\" class=\"graph\" transform=\"scale(1 1) rotate(0) translate(4 328)\">\n<polygon fill=\"white\" stroke=\"transparent\" points=\"-4,4 -4,-328 160.25,-328 160.25,4 -4,4\"/>\n<!-- C2 -->\n<g id=\"node1\" class=\"node\">\n<title>C2</title>\n<ellipse fill=\"none\" stroke=\"black\" cx=\"70\" cy=\"-18\" rx=\"27\" ry=\"18\"/>\n<text text-anchor=\"middle\" x=\"70\" y=\"-14.3\" font-family=\"Times,serif\" font-size=\"14.00\">C2</text>\n</g>\n<!-- C -->\n<g id=\"node2\" class=\"node\">\n<title>C</title>\n<ellipse fill=\"none\" stroke=\"black\" cx=\"27\" cy=\"-90\" rx=\"27\" ry=\"18\"/>\n<text text-anchor=\"middle\" x=\"27\" y=\"-86.3\" font-family=\"Times,serif\" font-size=\"14.00\">C</text>\n</g>\n<!-- C&#45;&gt;C2 -->\n<g id=\"edge1\" class=\"edge\">\n<title>C&#45;&gt;C2</title>\n<path fill=\"none\" stroke=\"black\" d=\"M42.04,-64.51C48.09,-54.66 54.9,-43.58 60.28,-34.82\"/>\n<polygon fill=\"black\" stroke=\"black\" points=\"39.01,-62.76 36.76,-73.12 44.97,-66.43 39.01,-62.76\"/>\n</g>\n<!-- B -->\n<g id=\"node3\" class=\"node\">\n<title>B</title>\n<ellipse fill=\"none\" stroke=\"black\" cx=\"43\" cy=\"-162\" rx=\"27\" ry=\"18\"/>\n<text text-anchor=\"middle\" x=\"43\" y=\"-158.3\" font-family=\"Times,serif\" font-size=\"14.00\">B</text>\n</g>\n<!-- B&#45;&gt;C -->\n<g id=\"edge2\" class=\"edge\">\n<title>B&#45;&gt;C</title>\n<path fill=\"none\" stroke=\"black\" d=\"M36.89,-134.29C34.9,-125.57 32.74,-116.12 30.95,-108.28\"/>\n<polygon fill=\"black\" stroke=\"black\" points=\"33.49,-135.09 39.13,-144.05 40.31,-133.53 33.49,-135.09\"/>\n</g>\n<!-- A -->\n<g id=\"node4\" class=\"node\">\n<title>A</title>\n<ellipse fill=\"none\" stroke=\"black\" cx=\"70\" cy=\"-234\" rx=\"27\" ry=\"18\"/>\n<text text-anchor=\"middle\" x=\"70\" y=\"-230.3\" font-family=\"Times,serif\" font-size=\"14.00\">A</text>\n</g>\n<!-- A&#45;&gt;B -->\n<g id=\"edge3\" class=\"edge\">\n<title>A&#45;&gt;B</title>\n<path fill=\"none\" stroke=\"black\" d=\"M59.99,-207.06C56.5,-198.01 52.68,-188.09 49.54,-179.96\"/>\n<polygon fill=\"black\" stroke=\"black\" points=\"56.74,-208.34 63.6,-216.41 63.27,-205.82 56.74,-208.34\"/>\n</g>\n<!-- Injection -->\n<g id=\"node6\" class=\"node\">\n<title>Injection</title>\n<ellipse fill=\"none\" stroke=\"black\" cx=\"114\" cy=\"-90\" rx=\"42.49\" ry=\"18\"/>\n<text text-anchor=\"middle\" x=\"114\" y=\"-86.3\" font-family=\"Times,serif\" font-size=\"14.00\">Injection</text>\n</g>\n<!-- A&#45;&gt;Injection -->\n<g id=\"edge6\" class=\"edge\">\n<title>A&#45;&gt;Injection</title>\n<path fill=\"none\" stroke=\"black\" d=\"M78.25,-206.37C87.16,-177.63 101.07,-132.71 108.65,-108.27\"/>\n<polygon fill=\"black\" stroke=\"black\" points=\"74.84,-205.57 75.22,-216.15 81.52,-207.64 74.84,-205.57\"/>\n</g>\n<!-- object -->\n<g id=\"node5\" class=\"node\">\n<title>object</title>\n<ellipse fill=\"none\" stroke=\"black\" cx=\"70\" cy=\"-306\" rx=\"32.49\" ry=\"18\"/>\n<text text-anchor=\"middle\" x=\"70\" y=\"-302.3\" font-family=\"Times,serif\" font-size=\"14.00\">object</text>\n</g>\n<!-- object&#45;&gt;A -->\n<g id=\"edge4\" class=\"edge\">\n<title>object&#45;&gt;A</title>\n<path fill=\"none\" stroke=\"black\" d=\"M70,-277.67C70,-269.05 70,-259.79 70,-252.1\"/>\n<polygon fill=\"black\" stroke=\"black\" points=\"66.5,-277.7 70,-287.7 73.5,-277.7 66.5,-277.7\"/>\n</g>\n<!-- Injection&#45;&gt;C2 -->\n<g id=\"edge5\" class=\"edge\">\n<title>Injection&#45;&gt;C2</title>\n<path fill=\"none\" stroke=\"black\" d=\"M98.07,-63.66C92.05,-54.09 85.38,-43.47 80.05,-34.99\"/>\n<polygon fill=\"black\" stroke=\"black\" points=\"95.29,-65.81 103.57,-72.41 101.21,-62.08 95.29,-65.81\"/>\n</g>\n</g>\n</svg>\n",
      "text/plain": [
       "<graphviz.graphs.Digraph at 0x120f1e8f0>"
      ]
     },
     "execution_count": 144,
     "metadata": {},
     "output_type": "execute_result"
    }
   ],
   "source": [
    "class Injection(A):\n",
    "    def __init__(self):\n",
    "        print('Injection')\n",
    "        super().__init__()\n",
    "\n",
    "\n",
    "class C2(C, Injection):\n",
    "    def __init__(self):\n",
    "        print('C2')\n",
    "        super().__init__()\n",
    "\n",
    "+C2"
   ]
  },
  {
   "cell_type": "code",
   "execution_count": 145,
   "metadata": {},
   "outputs": [
    {
     "name": "stdout",
     "output_type": "stream",
     "text": [
      "C2\n",
      "C\n",
      "B\n",
      "Injection\n",
      "A\n"
     ]
    },
    {
     "data": {
      "text/plain": [
       "<__main__.C2 at 0x120f1e800>"
      ]
     },
     "execution_count": 145,
     "metadata": {},
     "output_type": "execute_result"
    }
   ],
   "source": [
    "C2()"
   ]
  },
  {
   "cell_type": "code",
   "execution_count": 146,
   "metadata": {},
   "outputs": [
    {
     "data": {
      "text/plain": [
       "[__main__.D, __main__.B, __main__.C, __main__.A, object]"
      ]
     },
     "execution_count": 146,
     "metadata": {},
     "output_type": "execute_result"
    }
   ],
   "source": [
    "D.mro()"
   ]
  },
  {
   "cell_type": "code",
   "execution_count": 14,
   "metadata": {
    "tags": []
   },
   "outputs": [
    {
     "ename": "AssertionError",
     "evalue": "Is not even",
     "output_type": "error",
     "traceback": [
      "\u001b[0;31m---------------------------------------------------------------------------\u001b[0m",
      "\u001b[0;31mAssertionError\u001b[0m                            Traceback (most recent call last)",
      "\u001b[1;32m/Users/epot/__A__/Code/PythonDemo/py.ipynb Cell 66'\u001b[0m in \u001b[0;36m<cell line: 26>\u001b[0;34m()\u001b[0m\n\u001b[1;32m     <a href='vscode-notebook-cell:/Users/epot/__A__/Code/PythonDemo/py.ipynb#ch0000064?line=21'>22</a>\u001b[0m \u001b[39mclass\u001b[39;00m \u001b[39mPositiveAndEven\u001b[39;00m(IsPositive, IsEven):\n\u001b[1;32m     <a href='vscode-notebook-cell:/Users/epot/__A__/Code/PythonDemo/py.ipynb#ch0000064?line=22'>23</a>\u001b[0m     \u001b[39mpass\u001b[39;00m\n\u001b[0;32m---> <a href='vscode-notebook-cell:/Users/epot/__A__/Code/PythonDemo/py.ipynb#ch0000064?line=25'>26</a>\u001b[0m PositiveAndEven(\u001b[39m3\u001b[39;49m)\n",
      "\u001b[1;32m/Users/epot/__A__/Code/PythonDemo/py.ipynb Cell 66'\u001b[0m in \u001b[0;36mIsPositive.__init__\u001b[0;34m(self, value)\u001b[0m\n\u001b[1;32m     <a href='vscode-notebook-cell:/Users/epot/__A__/Code/PythonDemo/py.ipynb#ch0000064?line=9'>10</a>\u001b[0m \u001b[39mdef\u001b[39;00m \u001b[39m__init__\u001b[39m(\u001b[39mself\u001b[39m, value):\n\u001b[1;32m     <a href='vscode-notebook-cell:/Users/epot/__A__/Code/PythonDemo/py.ipynb#ch0000064?line=10'>11</a>\u001b[0m     \u001b[39massert\u001b[39;00m value \u001b[39m>\u001b[39m \u001b[39m0\u001b[39m, \u001b[39m'\u001b[39m\u001b[39mIs not positive\u001b[39m\u001b[39m'\u001b[39m\n\u001b[0;32m---> <a href='vscode-notebook-cell:/Users/epot/__A__/Code/PythonDemo/py.ipynb#ch0000064?line=11'>12</a>\u001b[0m     \u001b[39msuper\u001b[39;49m()\u001b[39m.\u001b[39;49m\u001b[39m__init__\u001b[39;49m(value \u001b[39m=\u001b[39;49m value)\n",
      "\u001b[1;32m/Users/epot/__A__/Code/PythonDemo/py.ipynb Cell 66'\u001b[0m in \u001b[0;36mIsEven.__init__\u001b[0;34m(self, value)\u001b[0m\n\u001b[1;32m     <a href='vscode-notebook-cell:/Users/epot/__A__/Code/PythonDemo/py.ipynb#ch0000064?line=16'>17</a>\u001b[0m \u001b[39mdef\u001b[39;00m \u001b[39m__init__\u001b[39m(\u001b[39mself\u001b[39m, value):\n\u001b[0;32m---> <a href='vscode-notebook-cell:/Users/epot/__A__/Code/PythonDemo/py.ipynb#ch0000064?line=17'>18</a>\u001b[0m     \u001b[39massert\u001b[39;00m value \u001b[39m%\u001b[39m \u001b[39m2\u001b[39m \u001b[39m==\u001b[39m \u001b[39m0\u001b[39m, \u001b[39m'\u001b[39m\u001b[39mIs not even\u001b[39m\u001b[39m'\u001b[39m\n\u001b[1;32m     <a href='vscode-notebook-cell:/Users/epot/__A__/Code/PythonDemo/py.ipynb#ch0000064?line=18'>19</a>\u001b[0m     \u001b[39msuper\u001b[39m()\u001b[39m.\u001b[39m\u001b[39m__init__\u001b[39m(value \u001b[39m=\u001b[39m value)\n",
      "\u001b[0;31mAssertionError\u001b[0m: Is not even"
     ]
    }
   ],
   "source": [
    "class Validator(metaclass=MetaGraph):\n",
    "\n",
    "    def __init__(self, value):\n",
    "        self.value = value\n",
    "        super().__init__()\n",
    "\n",
    "\n",
    "class IsPositive(Validator):\n",
    "\n",
    "    def __init__(self, value):\n",
    "        assert value > 0, 'Is not positive'\n",
    "        super().__init__(value = value)\n",
    "\n",
    "\n",
    "class IsEven(Validator):\n",
    "\n",
    "    def __init__(self, value):\n",
    "        assert value % 2 == 0, 'Is not even'\n",
    "        super().__init__(value = value)\n",
    "\n",
    "\n",
    "class PositiveAndEven(IsPositive, IsEven):\n",
    "    pass\n",
    "\n",
    "\n",
    "# PositiveAndEven(3)"
   ]
  },
  {
   "cell_type": "code",
   "execution_count": null,
   "metadata": {},
   "outputs": [],
   "source": [
    "F.mro()"
   ]
  },
  {
   "cell_type": "code",
   "execution_count": null,
   "metadata": {},
   "outputs": [],
   "source": [
    "D()"
   ]
  },
  {
   "cell_type": "code",
   "execution_count": null,
   "metadata": {},
   "outputs": [],
   "source": [
    "class A:\n",
    "    \n",
    "    def __init__(self, x):\n",
    "        self.x = x\n",
    "\n",
    "    def __repr__(self):\n",
    "        return f'A(x={self.x})'"
   ]
  },
  {
   "cell_type": "code",
   "execution_count": null,
   "metadata": {},
   "outputs": [],
   "source": [
    "a = A(x=1)\n",
    "a"
   ]
  },
  {
   "cell_type": "markdown",
   "metadata": {
    "jp-MarkdownHeadingCollapsed": true,
    "tags": []
   },
   "source": [
    "### for ... else ..."
   ]
  },
  {
   "cell_type": "code",
   "execution_count": 151,
   "metadata": {},
   "outputs": [
    {
     "name": "stdout",
     "output_type": "stream",
     "text": [
      "18 not found\n"
     ]
    }
   ],
   "source": [
    "def find_number(x):\n",
    "    for i in range(10):\n",
    "        if x == i:\n",
    "            break\n",
    "    nobreaks:  # No break\n",
    "        print(f'{x} not found')\n",
    "\n",
    "find_number(3)\n",
    "find_number(18)"
   ]
  },
  {
   "cell_type": "markdown",
   "metadata": {
    "jp-MarkdownHeadingCollapsed": true,
    "tags": []
   },
   "source": [
    "### `@contextlib.contextmanager`"
   ]
  },
  {
   "cell_type": "code",
   "execution_count": 7,
   "metadata": {},
   "outputs": [
    {
     "ename": "NameError",
     "evalue": "name 'contextlib' is not defined",
     "output_type": "error",
     "traceback": [
      "\u001b[0;31m---------------------------------------------------------------------------\u001b[0m",
      "\u001b[0;31mNameError\u001b[0m                                 Traceback (most recent call last)",
      "\u001b[1;32m/Users/epot/__A__/Code/PythonDemo/py.ipynb Cell 74'\u001b[0m in \u001b[0;36m<cell line: 1>\u001b[0;34m()\u001b[0m\n\u001b[0;32m----> <a href='vscode-notebook-cell:/Users/epot/__A__/Code/PythonDemo/py.ipynb#ch0000072?line=0'>1</a>\u001b[0m \u001b[39m@contextlib\u001b[39m\u001b[39m.\u001b[39mcontextmanager\n\u001b[1;32m      <a href='vscode-notebook-cell:/Users/epot/__A__/Code/PythonDemo/py.ipynb#ch0000072?line=1'>2</a>\u001b[0m \u001b[39mdef\u001b[39;00m \u001b[39mmy_context\u001b[39m():\n\u001b[1;32m      <a href='vscode-notebook-cell:/Users/epot/__A__/Code/PythonDemo/py.ipynb#ch0000072?line=2'>3</a>\u001b[0m     \u001b[39mprint\u001b[39m(\u001b[39m'\u001b[39m\u001b[39mEnter\u001b[39m\u001b[39m'\u001b[39m)\n\u001b[1;32m      <a href='vscode-notebook-cell:/Users/epot/__A__/Code/PythonDemo/py.ipynb#ch0000072?line=3'>4</a>\u001b[0m     \u001b[39mtry\u001b[39;00m:\n",
      "\u001b[0;31mNameError\u001b[0m: name 'contextlib' is not defined"
     ]
    }
   ],
   "source": [
    "@contextlib.contextmanager\n",
    "def my_context():\n",
    "    print('Enter')\n",
    "    try:\n",
    "        yield\n",
    "    finally:\n",
    "        print('Exit')"
   ]
  },
  {
   "cell_type": "code",
   "execution_count": 153,
   "metadata": {},
   "outputs": [
    {
     "name": "stdout",
     "output_type": "stream",
     "text": [
      "Enter\n",
      "Inside\n",
      "Exit\n"
     ]
    }
   ],
   "source": [
    "with my_context():\n",
    "    print('Inside')"
   ]
  },
  {
   "cell_type": "code",
   "execution_count": 154,
   "metadata": {},
   "outputs": [
    {
     "name": "stdout",
     "output_type": "stream",
     "text": [
      "Enter\n",
      "Inside\n",
      "Exit\n"
     ]
    }
   ],
   "source": [
    "@my_context()\n",
    "def fn():\n",
    "    print('Inside')\n",
    "\n",
    "fn()"
   ]
  },
  {
   "cell_type": "markdown",
   "metadata": {
    "jp-MarkdownHeadingCollapsed": true,
    "tags": []
   },
   "source": [
    "### UserDict"
   ]
  },
  {
   "cell_type": "code",
   "execution_count": 155,
   "metadata": {},
   "outputs": [
    {
     "data": {
      "text/plain": [
       "{'MY_ATTR': 1, 'Other_Attr': 2, 'A_TEST': 3, 'some_test': 4}"
      ]
     },
     "execution_count": 155,
     "metadata": {},
     "output_type": "execute_result"
    }
   ],
   "source": [
    "class LowerDict(dict):\n",
    "\n",
    "    def __setitem__(self, k, v):\n",
    "        super().__setitem__(k.lower(), v)\n",
    "\n",
    "\n",
    "d = LowerDict(MY_ATTR=1, Other_Attr=2)\n",
    "d.update(A_TEST=3)\n",
    "d['SOME_TEST'] = 4\n",
    "d"
   ]
  },
  {
   "cell_type": "code",
   "execution_count": 156,
   "metadata": {},
   "outputs": [
    {
     "ename": "TypeError",
     "evalue": "Can't instantiate abstract class LowerDict with abstract methods __delitem__, __getitem__, __iter__, __len__",
     "output_type": "error",
     "traceback": [
      "\u001b[0;31m---------------------------------------------------------------------------\u001b[0m",
      "\u001b[0;31mTypeError\u001b[0m                                 Traceback (most recent call last)",
      "\u001b[1;32m/Users/epot/__A__/Code/PythonDemo/py.ipynb Cell 78'\u001b[0m in \u001b[0;36m<cell line: 6>\u001b[0;34m()\u001b[0m\n\u001b[1;32m      <a href='vscode-notebook-cell:/Users/epot/__A__/Code/PythonDemo/py.ipynb#ch0000066?line=2'>3</a>\u001b[0m     \u001b[39mdef\u001b[39;00m \u001b[39m__setitem__\u001b[39m(\u001b[39mself\u001b[39m, k, v):\n\u001b[1;32m      <a href='vscode-notebook-cell:/Users/epot/__A__/Code/PythonDemo/py.ipynb#ch0000066?line=3'>4</a>\u001b[0m         \u001b[39msuper\u001b[39m()\u001b[39m.\u001b[39m\u001b[39m__setitem__\u001b[39m(k\u001b[39m.\u001b[39mlower(), v)\n\u001b[0;32m----> <a href='vscode-notebook-cell:/Users/epot/__A__/Code/PythonDemo/py.ipynb#ch0000066?line=5'>6</a>\u001b[0m LowerDict()\n",
      "\u001b[0;31mTypeError\u001b[0m: Can't instantiate abstract class LowerDict with abstract methods __delitem__, __getitem__, __iter__, __len__"
     ]
    }
   ],
   "source": [
    "class LowerDict(collections.abc.MutableMapping):\n",
    "\n",
    "    def __setitem__(self, k, v):\n",
    "        super().__setitem__(k.lower(), v)\n",
    "\n",
    "LowerDict()"
   ]
  },
  {
   "cell_type": "code",
   "execution_count": 157,
   "metadata": {},
   "outputs": [
    {
     "data": {
      "text/plain": [
       "{'my_attr': 1, 'other_attr': 2, 'a_test': 3, 'some_test': 4}"
      ]
     },
     "execution_count": 157,
     "metadata": {},
     "output_type": "execute_result"
    }
   ],
   "source": [
    "class LowerDict(collections.UserDict):\n",
    "\n",
    "    def __setitem__(self, k, v):\n",
    "        super().__setitem__(k.lower(), v)\n",
    "\n",
    "\n",
    "d = LowerDict(MY_ATTR=1, Other_Attr=2)\n",
    "d.update(A_TEST=3)\n",
    "d['SOME_TEST'] = 4\n",
    "d"
   ]
  },
  {
   "cell_type": "markdown",
   "metadata": {
    "jp-MarkdownHeadingCollapsed": true,
    "tags": []
   },
   "source": [
    "### Dedent"
   ]
  },
  {
   "cell_type": "code",
   "execution_count": null,
   "metadata": {},
   "outputs": [],
   "source": [
    "if True:\n",
    "    msgs = dict(\n",
    "        x=1,\n",
    "        y=\"\"\"\n",
    "Lorem ipsum dolor sit amet, consectetur adipiscing elit. Integer nec \n",
    "odio. Praesent libero. Sed cursus ante dapibus diam. Sed nisi. Nulla \n",
    "quis sem at nibh elementum imperdiet. Duis sagittis ipsum. Praesent \n",
    "mauris. Fusce nec tellus sed augue semper porta. Mauris massa.\n",
    "\"\"\",\n",
    "        z=2,\n",
    "    )"
   ]
  },
  {
   "cell_type": "code",
   "execution_count": null,
   "metadata": {},
   "outputs": [],
   "source": [
    "if True:\n",
    "    msgs = dict(\n",
    "        x=1,\n",
    "        y=textwrap.dedent(\"\"\"\n",
    "        Lorem ipsum dolor sit amet, consectetur adipiscing elit. Integer nec \n",
    "        odio. Praesent libero. Sed cursus ante dapibus diam. Sed nisi. Nulla \n",
    "        quis sem at nibh elementum imperdiet. Duis sagittis ipsum. Praesent \n",
    "        mauris. Fusce nec tellus sed augue semper porta. Mauris massa.\n",
    "        \"\"\"),\n",
    "        z=2,\n",
    "    )"
   ]
  },
  {
   "cell_type": "markdown",
   "metadata": {
    "jp-MarkdownHeadingCollapsed": true,
    "tags": []
   },
   "source": [
    "### SimpleNamespace"
   ]
  },
  {
   "cell_type": "code",
   "execution_count": 159,
   "metadata": {},
   "outputs": [
    {
     "data": {
      "text/plain": [
       "1"
      ]
     },
     "execution_count": 159,
     "metadata": {},
     "output_type": "execute_result"
    }
   ],
   "source": [
    "ns = types.SimpleNamespace(\n",
    "    x=1,\n",
    "    y=2,\n",
    "    z=3,\n",
    ")\n",
    "\n",
    "ns.w = 5\n",
    "ns.x"
   ]
  },
  {
   "cell_type": "markdown",
   "metadata": {},
   "source": [
    "## Py 3.8, 3.9"
   ]
  },
  {
   "cell_type": "markdown",
   "metadata": {
    "jp-MarkdownHeadingCollapsed": true,
    "tags": []
   },
   "source": [
    "### Better debug messages"
   ]
  },
  {
   "cell_type": "code",
   "execution_count": null,
   "metadata": {},
   "outputs": [],
   "source": [
    "x = 1\n",
    "\n",
    "f'New debug string `{x=}`. Anoter example: `{1 + 3=}`'"
   ]
  },
  {
   "cell_type": "markdown",
   "metadata": {
    "jp-MarkdownHeadingCollapsed": true,
    "tags": []
   },
   "source": [
    "### Walrus operator"
   ]
  },
  {
   "cell_type": "code",
   "execution_count": null,
   "metadata": {},
   "outputs": [],
   "source": [
    "\n",
    "\n",
    "x = find_something()\n",
    "if x:\n",
    "    print(x)"
   ]
  },
  {
   "cell_type": "code",
   "execution_count": null,
   "metadata": {},
   "outputs": [],
   "source": [
    "if x := find_something():\n",
    "    print(x)"
   ]
  },
  {
   "cell_type": "code",
   "execution_count": 6,
   "metadata": {},
   "outputs": [
    {
     "data": {
      "text/plain": [
       "(1, 5)"
      ]
     },
     "execution_count": 6,
     "metadata": {},
     "output_type": "execute_result"
    }
   ],
   "source": [
    "fn = lambda: (\n",
    "    x := 1,\n",
    "    y := x + 4,\n",
    "    b := (x, y),\n",
    ") and b\n",
    "\n",
    "fn()"
   ]
  },
  {
   "cell_type": "markdown",
   "metadata": {
    "jp-MarkdownHeadingCollapsed": true,
    "tags": []
   },
   "source": [
    "### Structural Pattern Matching"
   ]
  },
  {
   "cell_type": "code",
   "execution_count": null,
   "metadata": {},
   "outputs": [],
   "source": [
    "x = bool\n",
    "\n",
    "match x:\n",
    "  # values\n",
    "  case 0:\n",
    "    print('case 0')\n",
    "  case 1:\n",
    "    print('case 1')\n",
    "  case 'abc':\n",
    "    print('case \"abc\"')\n",
    "\n",
    "  # types\n",
    "  case bool():\n",
    "    print('case bool')\n",
    "\n",
    "  case type(bool()):\n",
    "    print('case bool')\n",
    "\n",
    "  case _:\n",
    "    print('Default')"
   ]
  },
  {
   "cell_type": "code",
   "execution_count": null,
   "metadata": {},
   "outputs": [],
   "source": [
    "x = 1\n",
    "\n",
    "match x:\n",
    "  case int():\n",
    "    print('a', z)\n",
    "  case str():\n",
    "    print('b')"
   ]
  },
  {
   "cell_type": "code",
   "execution_count": null,
   "metadata": {},
   "outputs": [],
   "source": [
    "x = dict(\n",
    "    x=1,\n",
    "    y=2,\n",
    "    z=3,\n",
    ")\n",
    "\n",
    "class Point:\n",
    "\n",
    "  def __init__(self, x=1, y=2):\n",
    "    self.x = y\n",
    "    self.y = x\n",
    "\n",
    "  def __getattr__(self, key):\n",
    "    print(key)\n",
    "    return 123\n",
    "\n",
    "  @property\n",
    "  def z(self):\n",
    "    print('z')\n",
    "    return 'acv'\n",
    "\n",
    "x = Point()\n",
    "\n",
    "match x:\n",
    "  case Point(x=a, z=b, i=123 as z):\n",
    "    print('PPP', a, b, z)\n",
    "  case {'x': a}:\n",
    "    print('a', a)\n",
    "  case str():\n",
    "    print('b')\n",
    "  case _:\n",
    "    raise ValueError"
   ]
  },
  {
   "cell_type": "markdown",
   "metadata": {
    "jp-MarkdownHeadingCollapsed": true,
    "tags": []
   },
   "source": [
    "## Toml & config"
   ]
  },
  {
   "cell_type": "markdown",
   "metadata": {},
   "source": [
    "### Tomllib"
   ]
  },
  {
   "cell_type": "markdown",
   "metadata": {},
   "source": [
    "TOML:\n",
    "\n",
    "```toml\n",
    "[build-system]\n",
    "requires = [\"setuptools\", \"wheel\"]  # PEP 508 specifications.\n",
    "```\n",
    "\n",
    "Json:\n",
    "\n",
    "```json\n",
    "{\n",
    "    \"build\": {\n",
    "        \"requires\": [\"setuptools\", \"wheel>=0.27\"]\n",
    "    }\n",
    "}\n",
    "```\n",
    "\n",
    "YAML:\n",
    "\n",
    "```yaml\n",
    "build:\n",
    "    requires:\n",
    "        - setuptools\n",
    "        - wheel>=0.27\n",
    "```\n"
   ]
  },
  {
   "cell_type": "markdown",
   "metadata": {},
   "source": [
    "```toml\n",
    "title = \"TOML Example\"\n",
    "\n",
    "[owner]\n",
    "name = \"Tom Preston-Werner\"\n",
    "dob = 1979-05-27T07:32:00-08:00 # First class dates\n",
    "\n",
    "[database]\n",
    "server = \"192.168.1.1\"\n",
    "ports = [ 8000, 8001, 8002 ]\n",
    "connection_max = 5000\n",
    "enabled = true\n",
    "```"
   ]
  },
  {
   "cell_type": "code",
   "execution_count": null,
   "metadata": {},
   "outputs": [],
   "source": []
  },
  {
   "cell_type": "markdown",
   "metadata": {},
   "source": [
    "### `pyproject.toml`"
   ]
  },
  {
   "cell_type": "markdown",
   "metadata": {},
   "source": [
    "## Typing annotations"
   ]
  },
  {
   "cell_type": "markdown",
   "metadata": {},
   "source": [
    "### Type unions"
   ]
  },
  {
   "cell_type": "markdown",
   "metadata": {},
   "source": [
    "### Protocol"
   ]
  },
  {
   "cell_type": "markdown",
   "metadata": {},
   "source": [
    "### TypeGuard"
   ]
  },
  {
   "cell_type": "markdown",
   "metadata": {
    "jp-MarkdownHeadingCollapsed": true,
    "tags": []
   },
   "source": [
    "### Self"
   ]
  },
  {
   "cell_type": "code",
   "execution_count": null,
   "metadata": {},
   "outputs": [],
   "source": [
    "@dataclasses.dataclass\n",
    "class A:\n",
    "    x: int\n",
    "\n",
    "    @classmethod\n",
    "    def create(cls) -> Self:\n",
    "        return cls(x=0)\n",
    "    \n",
    "    def replace(self, x) -> Self:\n",
    "        return dataclasses.replace(self, x=x)\n",
    "\n",
    "\n",
    "class B(A):\n",
    "    pass\n",
    "\n",
    "\n",
    "b = B.create()\n",
    "b.replace(x=3)"
   ]
  },
  {
   "cell_type": "markdown",
   "metadata": {},
   "source": [
    "### Literal"
   ]
  },
  {
   "cell_type": "markdown",
   "metadata": {},
   "source": [
    "### Variadic Generics"
   ]
  },
  {
   "cell_type": "markdown",
   "metadata": {},
   "source": [
    "### Type Alias"
   ]
  },
  {
   "cell_type": "markdown",
   "metadata": {},
   "source": [
    "### Final"
   ]
  },
  {
   "cell_type": "markdown",
   "metadata": {
    "jp-MarkdownHeadingCollapsed": true,
    "tags": []
   },
   "source": [
    "### TypedDict"
   ]
  },
  {
   "cell_type": "markdown",
   "metadata": {},
   "source": []
  }
 ],
 "metadata": {
  "kernelspec": {
   "display_name": "Python 3",
   "language": "python",
   "name": "python3"
  },
  "language_info": {
   "codemirror_mode": {
    "name": "ipython",
    "version": 3
   },
   "file_extension": ".py",
   "mimetype": "text/x-python",
   "name": "python",
   "nbconvert_exporter": "python",
   "pygments_lexer": "ipython3",
   "version": "3.11.1 (main, Dec 21 2022, 11:17:26) [Clang 14.0.0 (clang-1400.0.29.202)]"
  },
  "vscode": {
   "interpreter": {
    "hash": "136a4e114a1c289a6918e47484fd822e84bd6bf7473b2c9af631febfc9de4cf4"
   }
  }
 },
 "nbformat": 4,
 "nbformat_minor": 4
}
