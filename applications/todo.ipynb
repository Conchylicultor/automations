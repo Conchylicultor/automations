{
 "cells": [
  {
   "cell_type": "code",
   "execution_count": 24,
   "metadata": {},
   "outputs": [],
   "source": [
    "from __future__ import annotations\n",
    "\n",
    "from etils.lazy_imports import *\n",
    "import notion_client\n",
    "\n",
    "ecolab.clear_cached_modules(['common'])\n",
    "import common"
   ]
  },
  {
   "cell_type": "code",
   "execution_count": 8,
   "metadata": {},
   "outputs": [],
   "source": [
    "common.add_notion_to_sys_path()"
   ]
  },
  {
   "cell_type": "code",
   "execution_count": 169,
   "metadata": {},
   "outputs": [],
   "source": [
    "ecolab.clear_cached_modules(['auto_notion'])\n",
    "\n",
    "import auto_notion"
   ]
  },
  {
   "cell_type": "code",
   "execution_count": 170,
   "metadata": {},
   "outputs": [
    {
     "data": {
      "text/plain": [
       "<auto_notion.database.Database at 0x11e37c350>"
      ]
     },
     "execution_count": 170,
     "metadata": {},
     "output_type": "execute_result"
    }
   ],
   "source": [
    "db = auto_notion.Database('989b65ec51244c8ba318a982717b085d')\n",
    "db"
   ]
  },
  {
   "cell_type": "code",
   "execution_count": 171,
   "metadata": {},
   "outputs": [],
   "source": [
    "import datetime"
   ]
  },
  {
   "cell_type": "code",
   "execution_count": 177,
   "metadata": {},
   "outputs": [],
   "source": [
    "\n",
    "# Shift TODAY from 7 hours (as 2am on Friday is still Thursday)\n",
    "TODAY_DATE = datetime.datetime.today() - datetime.timedelta(hours=6)\n",
    "\n",
    "\n",
    "def next_weekday(curr_day: datetime.datetime, day_id: int):\n",
    "    day_ahead = (day_id - curr_day.weekday()) % 7\n",
    "    if day_ahead == 0:\n",
    "        day_ahead += 7\n",
    "    return curr_day + datetime.timedelta(days=day_ahead)\n",
    "\n",
    "\n",
    "def next_monthday(curr_day: datetime.datetime, month_id: int):\n",
    "    if month_id > curr_day.month:  # Keep current year\n",
    "        year = curr_day.year\n",
    "    else:  # Month id already passed. Use next year\n",
    "        year = curr_day.year + 1\n",
    "    return datetime.datetime(year=year, month=month_id, day=1)\n",
    "\n",
    "\n",
    "@dataclasses.dataclass\n",
    "class NextWeek:\n",
    "    day_id: int\n",
    "\n",
    "    def __call__(self) -> Any:\n",
    "        return next_weekday(TODAY_DATE, self.day_id)\n",
    "\n",
    "\n",
    "@dataclasses.dataclass\n",
    "class DetlaTime:\n",
    "    days: int\n",
    "\n",
    "    def __call__(self) -> Any:\n",
    "        return TODAY_DATE + datetime.timedelta(days=self.days)\n",
    "\n",
    "\n",
    "@dataclasses.dataclass\n",
    "class InMonth:\n",
    "    month_id: int\n",
    "\n",
    "    def __call__(self) -> Any:\n",
    "        return next_monthday(TODAY_DATE, self.month_id)\n",
    "\n",
    "\n",
    "option_to_delta = {\n",
    "    'Next Monday': NextWeek(0),\n",
    "    'Next Tuesday': NextWeek(1),\n",
    "    'Next Wednesday': NextWeek(2),\n",
    "    'Next Thursday': NextWeek(3),\n",
    "    'Next Friday': NextWeek(4),\n",
    "    'Next Saturday': NextWeek(5),\n",
    "    'Next Sunday': NextWeek(6),\n",
    "    'In 1 Day': DetlaTime(1),\n",
    "    'In 7 Days': DetlaTime(7),\n",
    "    'In 1 Month': DetlaTime(30),\n",
    "    'In 2 Months': DetlaTime(60),\n",
    "    'In 1 Year': DetlaTime(365),\n",
    "    'In Jan': InMonth(1),\n",
    "    'In Feb': InMonth(2),\n",
    "    'In Mar': InMonth(3),\n",
    "    'In Apr': InMonth(4),\n",
    "    'In May': InMonth(5),\n",
    "    'In Jun': InMonth(6),\n",
    "    'In Jul': InMonth(7),\n",
    "    'In Aug': InMonth(8),\n",
    "    'In Sep': InMonth(9),\n",
    "    'In Oct': InMonth(10),\n",
    "    'In Nov': InMonth(11),\n",
    "    'In Dec': InMonth(12),\n",
    "    'In the US': None,\n",
    "}"
   ]
  },
  {
   "cell_type": "code",
   "execution_count": 179,
   "metadata": {},
   "outputs": [
    {
     "data": {
      "text/plain": [
       "datetime.datetime(2023, 1, 21, 15, 39, 34, 11682)"
      ]
     },
     "execution_count": 179,
     "metadata": {},
     "output_type": "execute_result"
    }
   ],
   "source": [
    "NextWeek(5)()"
   ]
  },
  {
   "cell_type": "code",
   "execution_count": 173,
   "metadata": {},
   "outputs": [
    {
     "name": "stdout",
     "output_type": "stream",
     "text": [
      "Unsupported property date\n",
      "Unsupported property select\n",
      "Unsupported property created_time\n",
      "Unsupported property select\n",
      "Unsupported property date\n",
      "Unsupported property title\n"
     ]
    }
   ],
   "source": [
    "all_exs = list(db[~db.filters.done])"
   ]
  },
  {
   "cell_type": "code",
   "execution_count": 181,
   "metadata": {},
   "outputs": [
    {
     "name": "stdout",
     "output_type": "stream",
     "text": [
      "Now:  2023-01-14 15:39:34.011682\n",
      "In Feb -> 2024-01-01\n",
      "Next Saturday -> 2023-01-21\n",
      "Next Monday -> 2023-01-16\n",
      "Next Saturday -> 2023-01-21\n",
      "Next Saturday -> 2023-01-21\n",
      "In Apr -> 2023-03-01\n",
      "Next Tuesday -> 2023-01-17\n",
      "In 1 Month -> 2023-02-13\n",
      "In 7 Days -> 2023-01-21\n",
      "In Apr -> 2023-03-01\n",
      "In Feb -> 2024-01-01\n",
      "In 1 Month -> 2023-02-13\n",
      "Next Sunday -> 2023-01-15\n",
      "In 2 Months -> 2023-03-15\n",
      "In 1 Month -> 2023-02-13\n",
      "In Mar -> 2023-02-01\n",
      "In 1 Day -> 2023-01-15\n",
      "In 1 Year -> 2024-01-14\n"
     ]
    }
   ],
   "source": [
    "print('Now: ', TODAY_DATE)\n",
    "\n",
    "for row in all_exs:\n",
    "    if not row.snooze:\n",
    "        continue\n",
    "    if row.snooze not in option_to_delta:\n",
    "        raise ValueError(f'Unexpected snooze value: {row.snooze!r}')\n",
    "\n",
    "    delta_fn = option_to_delta[row.snooze]\n",
    "    if delta_fn is None:\n",
    "        continue\n",
    "\n",
    "    reminder = delta_fn().date()\n",
    "    print(f'{row.snooze} -> {reminder}')\n",
    "    row.reminder = reminder\n",
    "    row.snooze = None"
   ]
  },
  {
   "cell_type": "code",
   "execution_count": 136,
   "metadata": {},
   "outputs": [
    {
     "name": "stdout",
     "output_type": "stream",
     "text": [
      "Unsupported property date\n",
      "Unsupported property select\n",
      "Unsupported property created_time\n",
      "Unsupported property select\n",
      "Unsupported property date\n",
      "Unsupported property title\n"
     ]
    }
   ],
   "source": [
    "TODAY_DATE = datetime.datetime.today()\n",
    "\n",
    "for row in db[db.filters.done]:\n",
    "    if not row.archived:\n",
    "        row.archived = TODAY_DATE"
   ]
  },
  {
   "cell_type": "code",
   "execution_count": null,
   "metadata": {},
   "outputs": [],
   "source": []
  }
 ],
 "metadata": {
  "kernelspec": {
   "display_name": "Python 3",
   "language": "python",
   "name": "python3"
  },
  "language_info": {
   "codemirror_mode": {
    "name": "ipython",
    "version": 3
   },
   "file_extension": ".py",
   "mimetype": "text/x-python",
   "name": "python",
   "nbconvert_exporter": "python",
   "pygments_lexer": "ipython3",
   "version": "3.11.1"
  },
  "orig_nbformat": 4,
  "vscode": {
   "interpreter": {
    "hash": "136a4e114a1c289a6918e47484fd822e84bd6bf7473b2c9af631febfc9de4cf4"
   }
  }
 },
 "nbformat": 4,
 "nbformat_minor": 2
}
